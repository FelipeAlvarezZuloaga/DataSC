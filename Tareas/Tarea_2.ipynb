{
 "cells": [
  {
   "cell_type": "markdown",
   "id": "7108d390-30aa-43e9-9f9f-b006e2da9ecf",
   "metadata": {},
   "source": [
    "# Tarea 2 Análisis de datos"
   ]
  },
  {
   "cell_type": "markdown",
   "id": "1152c4d0-5fca-44b2-a38a-aecb64eb2759",
   "metadata": {},
   "source": [
    "Estudiaremos el crecimiento poblacional para diferentes países.\n",
    "\n",
    "Utilizaremos los datos de kaggle dados por el siguiente link:\n",
    "\n",
    "https://www.kaggle.com/datasets/devildyno/population-growth-by-each-country/data"
   ]
  },
  {
   "cell_type": "markdown",
   "id": "6d102a47-9b27-47cc-b7ba-72810f2341e8",
   "metadata": {},
   "source": [
    "## 1 Descarga los datos\n",
    "\n",
    "Descarga lo datos de la página de kaggle y lee los datos en este notebook"
   ]
  },
  {
   "cell_type": "code",
   "execution_count": null,
   "id": "59742379-3f54-4da6-a67c-9007647a3306",
   "metadata": {},
   "outputs": [],
   "source": []
  },
  {
   "cell_type": "markdown",
   "id": "99ae3bec-ac78-4ce0-9ad3-0557d7da97c6",
   "metadata": {},
   "source": [
    "## 2 Valores faltantes y valores nulos\n",
    "\n",
    "Encuentra cuántos valores nullos tienen los datos"
   ]
  },
  {
   "cell_type": "code",
   "execution_count": null,
   "id": "cd584615-aef7-4350-85bc-0bb6052b8257",
   "metadata": {},
   "outputs": [],
   "source": []
  },
  {
   "cell_type": "markdown",
   "id": "60084fa7-36d3-4049-97bf-fadefedd9d97",
   "metadata": {},
   "source": [
    "## 3.1 Análisis exploratorio\n",
    "\n",
    "Responde las siguientes preguntas:\n",
    "\n",
    "*Hint : Utiliza el método .describe() para encontrar valores como desviacion estandar, valores máximos, mínimos, cuartiles, etc...*\n",
    "\n",
    "\n",
    "* ¿Cómo podemos interpretar los datos por cada columna?\n",
    "* ¿Qué significa el valor mean y std del año 1963?\n",
    "* Compara los valores de 1961 y 2023 ¿Qué diferencia hay entre los valores y cómo interpretas esta diferencia?"
   ]
  },
  {
   "cell_type": "code",
   "execution_count": null,
   "id": "8718c607-e4b5-4127-aaee-ed58bd35ff2d",
   "metadata": {},
   "outputs": [],
   "source": []
  },
  {
   "cell_type": "markdown",
   "id": "eb2215c8-d840-4c30-aff9-c31a6161df41",
   "metadata": {},
   "source": [
    "## 3.2 Análisis exploratorio\n",
    "Responde la siguientes preguntas y crea las gráficas\n",
    "* ¿Qué tipo de gráfica te puede arrojar información relevante de los datos y por qué?\n",
    "* Crea un histográma utilizando los datos de 1961 y 2023 y explica que se puede observar"
   ]
  },
  {
   "cell_type": "code",
   "execution_count": null,
   "id": "529146a6-517c-4bee-b45d-71acadf2f20c",
   "metadata": {},
   "outputs": [],
   "source": []
  },
  {
   "cell_type": "markdown",
   "id": "7b520402-14ae-47bb-8346-d387daece5d8",
   "metadata": {},
   "source": [
    "## 3.3 Análisis exploratorio\n",
    "\n",
    "Crea un dataframe a partir del que ya tenemos en donde las columnas sean los nombres de los países y las filas sean los diferentes años.\n",
    "\n",
    "*Hint: Utiliza la transposición*"
   ]
  },
  {
   "cell_type": "code",
   "execution_count": null,
   "id": "82fc2fcb-7eeb-4772-9967-df0cf8e86bac",
   "metadata": {},
   "outputs": [],
   "source": []
  },
  {
   "cell_type": "markdown",
   "id": "cc483144-0a5a-452c-a64f-adf56bde662d",
   "metadata": {},
   "source": [
    "## 3.4 Análisis exploratorio\n",
    "\n",
    "Utiliza los métodos que creas convenientes para comparar el crecimiento poblacional de 4 países diferentes de tu elección."
   ]
  },
  {
   "cell_type": "code",
   "execution_count": null,
   "id": "3474b7a6-6089-48ad-938c-4b71c4b65254",
   "metadata": {},
   "outputs": [],
   "source": []
  },
  {
   "cell_type": "markdown",
   "id": "77eb2203-e023-46fd-a89b-6b5bad3e0015",
   "metadata": {},
   "source": [
    "## 3.5 Análsiis exploratorio\n",
    "\n",
    "Crea una lista de países de todos los países que tengan en su nombre alguna de las cadenas: \"NE\"\n",
    "\n",
    "*Ignora si la cadena aparece en minúsculas o mayúsculas*\n",
    "\n",
    "Ejemplo:\n",
    "\n",
    "[**Ne**w Zeland, Gui**ne**a, Monte**ne**gro]\n"
   ]
  },
  {
   "cell_type": "code",
   "execution_count": null,
   "id": "95218438-7b60-4489-8e31-8cc092272974",
   "metadata": {},
   "outputs": [],
   "source": []
  }
 ],
 "metadata": {
  "kernelspec": {
   "display_name": "Python 3 (ipykernel)",
   "language": "python",
   "name": "python3"
  },
  "language_info": {
   "codemirror_mode": {
    "name": "ipython",
    "version": 3
   },
   "file_extension": ".py",
   "mimetype": "text/x-python",
   "name": "python",
   "nbconvert_exporter": "python",
   "pygments_lexer": "ipython3",
   "version": "3.10.14"
  }
 },
 "nbformat": 4,
 "nbformat_minor": 5
}
