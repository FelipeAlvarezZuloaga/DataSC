{
 "cells": [
  {
   "cell_type": "markdown",
   "id": "50c4354f-dc90-4540-90fe-4731642c6933",
   "metadata": {},
   "source": [
    "# **Análisis Exploratorio de Datos (EDA)**\n",
    "\n",
    "Realizaremos un Análisis Exploratorio de Datos completo utilizando un conjunto de datos real. Aplicaremos todos los conceptos que hemos aprendido hasta ahora, incluyendo limpieza, visualización, manejo de datos faltantes y outliers, procesamiento de datos categóricos, y más.\n"
   ]
  },
  {
   "cell_type": "markdown",
   "id": "81e6e5fc-48ce-40f0-90ee-3918f06745bb",
   "metadata": {},
   "source": [
    "## **Descripción del Problema**\n",
    "\n",
    "Imagina que eres un científico de datos en una empresa de telecomunicaciones. La empresa está preocupada por el alto índice de abandono de clientes (churn) y te han pedido que analices los datos de clientes para identificar patrones y factores que contribuyen al churn. Tu objetivo es realizar un EDA completo para extraer insights valiosos que puedan ayudar a la empresa a retener clientes.\n"
   ]
  },
  {
   "cell_type": "markdown",
   "id": "551debed-1caf-4992-a520-f5c529beca4e",
   "metadata": {},
   "source": [
    "## **1. Carga de datos**\n",
    "\n",
    "Revisamos a lo largo del curso, diferentes maneras de acceder a la información. Por ejemplo, con bases SQL, noSQL, APIs, Scrapping, leyendo .csv, etc...\n",
    "En este caso en particular, accederemos a los datos directamente desde el repo de github en donde están alojados."
   ]
  },
  {
   "cell_type": "code",
   "execution_count": null,
   "id": "3ad9c480-9f46-4fa3-a356-cdced2bd47ab",
   "metadata": {},
   "outputs": [],
   "source": [
    "import pandas as pd\n",
    "import numpy as np\n",
    "import matplotlib.pyplot as plt\n",
    "import seaborn as sns\n",
    "import re\n",
    "import nltk\n",
    "from nltk.corpus import stopwords\n",
    "\n",
    "import warnings\n",
    "warnings.filterwarnings(\"ignore\")"
   ]
  },
  {
   "cell_type": "code",
   "execution_count": null,
   "id": "fdd48e26-a6ce-44c6-a9e5-a75b1340af68",
   "metadata": {},
   "outputs": [],
   "source": [
    "# Configuración de gráficos\n",
    "%matplotlib inline\n",
    "plt.style.use('ggplot')\n",
    "sns.set(rc={'figure.figsize':(10,6)})"
   ]
  },
  {
   "cell_type": "code",
   "execution_count": null,
   "id": "e2cac88c-00c5-417f-9ab4-c7d9bec3f61c",
   "metadata": {},
   "outputs": [],
   "source": [
    "# Descargar stopwords si es necesario\n",
    "nltk.download('stopwords')\n",
    "\n",
    "# Cargar el conjunto de datos\n",
    "url = 'https://raw.githubusercontent.com/IBM/telco-customer-churn-on-icp4d/master/data/Telco-Customer-Churn.csv'\n",
    "df = pd.read_csv(url)"
   ]
  },
  {
   "cell_type": "code",
   "execution_count": null,
   "id": "60ec8c3f-3de2-4246-9718-19a2c8b55973",
   "metadata": {},
   "outputs": [],
   "source": [
    "df.head(5)"
   ]
  },
  {
   "cell_type": "markdown",
   "id": "b96cba94-4997-46fa-bd4a-5e3d240c3c49",
   "metadata": {},
   "source": [
    "### Descripción de las columnas:\n",
    "\n",
    "* customerID: Identificador único de cada cliente. Es una cadena de caracteres que distingue a cada cliente en el conjunto de datos.\n",
    "\n",
    "* gender: Género del cliente. Los valores posibles son:\n",
    "\n",
    "  Male: Hombre.\n",
    "\n",
    "  Female: Mujer.\n",
    "\n",
    "* SeniorCitizen: Indica si el cliente es una persona de la tercera edad. Los valores son:\n",
    "\n",
    "    1: El cliente es un adulto mayor (normalmente se considera a partir de 65 años).\n",
    "\n",
    "    0: El cliente no es un adulto mayor.\n",
    "\n",
    "* Partner: Indica si el cliente tiene pareja. Los valores son:\n",
    "\n",
    "    Yes: El cliente tiene pareja.\n",
    "\n",
    "    No: El cliente no tiene pareja.\n",
    "\n",
    "* Dependents: Indica si el cliente tiene personas dependientes a su cargo (como hijos o familiares). Los valores son:\n",
    "\n",
    "    Yes: El cliente tiene dependientes.\n",
    "\n",
    "    No: El cliente no tiene dependientes.\n",
    "\n",
    "* tenure: Número de meses que el cliente ha estado con la empresa. Esta columna representa la antigüedad del cliente en términos de meses. Por ejemplo:\n",
    "\n",
    "* PhoneService: Indica si el cliente tiene servicio telefónico. Los valores son:\n",
    "\n",
    "    Yes: El cliente tiene servicio telefónico.\n",
    "\n",
    "    No: El cliente no tiene servicio telefónico.\n",
    "\n",
    "* MultipleLines: Indica si el cliente tiene múltiples líneas telefónicas. Los valores son:\n",
    "\n",
    "    Yes: El cliente tiene múltiples líneas.\n",
    "\n",
    "    No: El cliente no tiene múltiples líneas.\n",
    "\n",
    "* No phone service: El cliente no tiene servicio telefónico.\n",
    "\n",
    "* InternetService: Tipo de servicio de internet del cliente. Los valores son:\n",
    "\n",
    "* DSL: El cliente tiene servicio de internet DSL.\n",
    "\n",
    "* Fiber optic: El cliente tiene servicio de internet por fibra óptica.\n",
    "\n",
    "* No: El cliente no tiene servicio de internet.\n",
    "\n",
    "* OnlineSecurity: Indica si el cliente tiene servicio de seguridad en línea. Los valores son:\n",
    "\n",
    "    Yes: El cliente tiene seguridad en línea.\n",
    "\n",
    "  No: El cliente no tiene seguridad en línea.\n",
    "\n",
    "* No internet service: El cliente no tiene servicio de internet.\n",
    "\n",
    "* OnlineBackup: Indica si el cliente tiene servicio de respaldo en línea. Valores similares a OnlineSecurity.\n",
    "\n",
    "* DeviceProtection: Indica si el cliente tiene protección para dispositivos. Valores similares.\n",
    "\n",
    "* TechSupport: Indica si el cliente tiene soporte técnico. Valores similares.\n",
    "\n",
    "* StreamingTV: Indica si el cliente tiene servicio de streaming de TV. Valores similares.\n",
    "\n",
    "* StreamingMovies: Indica si el cliente tiene servicio de streaming de películas. Valores similares.\n",
    "\n",
    "* Contract: Tipo de contrato del cliente. Los valores son:\n",
    "\n",
    "    Month-to-month: Contrato mes a mes.\n",
    "\n",
    "    One year: Contrato de un año.\n",
    "\n",
    "    Two year: Contrato de dos años.\n",
    "\n",
    "* PaperlessBilling: Indica si el cliente tiene facturación electrónica. Los valores son:\n",
    "\n",
    "    Yes: El cliente utiliza facturación electrónica.\n",
    "\n",
    "    No: El cliente recibe facturas en papel.\n",
    "\n",
    "* PaymentMethod: Método de pago preferido por el cliente. Los valores son:\n",
    "\n",
    "    Electronic check: Cheque electrónico.\n",
    "\n",
    "    Mailed check: Cheque enviado por correo.\n",
    "  \n",
    "* Bank transfer (automatic): Transferencia bancaria automática.\n",
    "\n",
    "* Credit card (automatic): Tarjeta de crédito automática.\n",
    "\n",
    "* MonthlyCharges: Cargos mensuales que el cliente paga por los servicios contratados. Es un valor numérico en dólares.\n",
    "\n",
    "* TotalCharges: Cargos totales acumulados por el cliente durante el tiempo que ha estado con la empresa. También es un valor numérico en dólares.\n",
    "\n",
    "* Churn: Indica si el cliente ha abandonado el servicio. Los valores son:\n",
    "\n",
    "    Yes: El cliente ha cancelado el servicio.\n",
    "\n",
    "    No: El cliente continúa con el servicio.\n"
   ]
  },
  {
   "cell_type": "markdown",
   "id": "c95fd682-f2c7-4468-aa28-70236e5fbab0",
   "metadata": {},
   "source": [
    "## **2. Exploración inicial de los datos**\n",
    "\n",
    "Echamos un vistazo a las primeras entradas del conjunto de datos para familiarizarnos con las variables disponibles.\n",
    "\n",
    "Las variables incluyen información demográfica, detalles del servicio y si el cliente ha abandonado o no el servicio."
   ]
  },
  {
   "cell_type": "code",
   "execution_count": null,
   "id": "4144d4a8-0d41-4c84-8f2f-69acea5721db",
   "metadata": {},
   "outputs": [],
   "source": [
    "# Información general del DataFrame\n",
    "df.info()"
   ]
  },
  {
   "cell_type": "markdown",
   "id": "12610e86-7203-4e7b-b423-f828e6e17f6b",
   "metadata": {},
   "source": [
    "Observamos el tipo de datos de cada columna y la cantidad de valores no nulos para identificar posibles datos faltantes.\r\n",
    "\r\n",
    "Notamos que hay 7043 registros y 21 columnas. Algunas columnas son numéricas y otras categóricas.\r\n"
   ]
  },
  {
   "cell_type": "code",
   "execution_count": null,
   "id": "7483cd46-6783-4d32-bf6d-f8d2815f2f2d",
   "metadata": {},
   "outputs": [],
   "source": [
    "# Estadísticas descriptivas\n",
    "df.describe(include='all')"
   ]
  },
  {
   "cell_type": "markdown",
   "id": "5942e2a8-fd50-4943-aa3d-2a3276efa17e",
   "metadata": {},
   "source": [
    "Obtenemos estadísticas descriptivas para todas las variables, lo que nos ayudará a identificar outliers y entender la distribución de los datos.\n",
    "\n",
    "Observamos que algunas variables parecen tener datos inconsistentes, como **TotalCharges**.\n"
   ]
  },
  {
   "cell_type": "code",
   "execution_count": null,
   "id": "69610f86-0fcc-4187-bcb1-98f091ef9788",
   "metadata": {},
   "outputs": [],
   "source": [
    "df['TotalCharges']"
   ]
  },
  {
   "cell_type": "markdown",
   "id": "e9f319ad-7211-4e2c-8e18-b6c40e1f6916",
   "metadata": {},
   "source": [
    "**¿Por qué si parece tener únicamente valores numéricos no lo detecto como columna de flotantes y no nos dió sus estadísticos?**"
   ]
  },
  {
   "cell_type": "code",
   "execution_count": null,
   "id": "0b9c3363-dd59-4b5f-afef-a08e65fdde95",
   "metadata": {},
   "outputs": [],
   "source": [
    "df['TotalCharges'].dtype"
   ]
  },
  {
   "cell_type": "markdown",
   "id": "414a15a1-bc68-4bdd-a71c-b9c9138f0354",
   "metadata": {},
   "source": [
    "¿Qué nos dice la línea anterior?\n",
    "\n",
    "Intentaremos convertir la columna a datos numéricos y revisaremos los errores que no se logren convertir"
   ]
  },
  {
   "cell_type": "code",
   "execution_count": null,
   "id": "4efcc4e7-f242-438a-8dea-868b53440266",
   "metadata": {},
   "outputs": [],
   "source": [
    "# Identificamos valores no numéricos en 'TotalCharges'\n",
    "df[pd.to_numeric(df['TotalCharges'], errors='coerce').isnull()][['customerID', 'TotalCharges']]"
   ]
  },
  {
   "cell_type": "markdown",
   "id": "cf85b1b1-6d80-400d-98b5-b6c933e58755",
   "metadata": {},
   "source": [
    "Hemos encontrado que la columna **TotalCharges** debería ser numérica, pero aparece como objeto debido a valores vacíos o no numéricos."
   ]
  },
  {
   "cell_type": "code",
   "execution_count": null,
   "id": "f879d5d4-9347-4e29-82f5-32284ced0cfc",
   "metadata": {},
   "outputs": [],
   "source": [
    "# Convertimos 'TotalCharges' a numérico\n",
    "df['TotalCharges'] = pd.to_numeric(df['TotalCharges'], errors='coerce')"
   ]
  },
  {
   "cell_type": "markdown",
   "id": "ec460529-e55c-466b-a13a-75421472ac6f",
   "metadata": {},
   "source": [
    "Revisemos los datos que hemos convertido a nulos"
   ]
  },
  {
   "cell_type": "code",
   "execution_count": null,
   "id": "fa42ad46-97e5-489e-9d70-fb12665ae88a",
   "metadata": {},
   "outputs": [],
   "source": [
    "# Verificamos datos faltantes\n",
    "df.isnull().sum()"
   ]
  },
  {
   "cell_type": "markdown",
   "id": "7848caf2-3002-4400-8678-b470d8bed245",
   "metadata": {},
   "source": [
    "## **3. Manejo de datos faltantes**"
   ]
  },
  {
   "cell_type": "code",
   "execution_count": null,
   "id": "849ffb60-e645-45a4-9c82-8a509644d359",
   "metadata": {},
   "outputs": [],
   "source": [
    "# Visualizamos datos faltantes\n",
    "import missingno as msno\n",
    "msno.matrix(df)\n",
    "plt.show()"
   ]
  },
  {
   "cell_type": "markdown",
   "id": "f88e100a-c342-4d8f-b25c-0a7eb7f4c06a",
   "metadata": {},
   "source": [
    "Visualizamos los datos faltantes utilizando la librería **missingno** para identificar patrones en los faltantes.\n",
    "\n",
    "Observamos que los valores faltantes en **TotalCharges** parecen ser aleatorios.\n"
   ]
  },
  {
   "cell_type": "code",
   "execution_count": null,
   "id": "c0fd9b82-1757-410f-b1a5-a7d191b25ffc",
   "metadata": {},
   "outputs": [],
   "source": [
    "# Porcentaje de datos faltantes por columna\n",
    "(df.isnull().sum() / len(df)) * 100"
   ]
  },
  {
   "cell_type": "markdown",
   "id": "580c0d96-ecd5-404d-8ae1-92d71be1a6ae",
   "metadata": {},
   "source": [
    "**TotalCharges** tiene aproximadamente el 0.15% de datos faltantes.\n",
    "\n",
    "Una opción sensata puede ser eliminar estos registros y continuar con el resto de los datos. Sin embargo, decidiremos imputar estos valores en lugar de eliminar las filas.\n"
   ]
  },
  {
   "cell_type": "code",
   "execution_count": null,
   "id": "26d3932f-48bc-4564-bbfe-25aef1313dcd",
   "metadata": {},
   "outputs": [],
   "source": [
    "# Imputación de 'TotalCharges' usando el valor de 'MonthlyCharges' por 'tenure'\n",
    "df['TotalCharges'] = df['TotalCharges'].fillna(df['MonthlyCharges'] * df['tenure'])"
   ]
  },
  {
   "cell_type": "code",
   "execution_count": null,
   "id": "53d4c1c5-3de3-464e-ad5f-699ab3ac2135",
   "metadata": {},
   "outputs": [],
   "source": [
    "¿Por qué elegímos esas columnas multiplicadas para imputarlos?"
   ]
  },
  {
   "cell_type": "code",
   "execution_count": null,
   "id": "1e474611-b9f5-4ac2-8fa4-4c18ab3a9f3b",
   "metadata": {},
   "outputs": [],
   "source": [
    "df[[\"tenure\", \"MonthlyCharges\", \"TotalCharges\"]]"
   ]
  },
  {
   "cell_type": "code",
   "execution_count": null,
   "id": "14846093-91a7-4847-a619-bf43353c634d",
   "metadata": {},
   "outputs": [],
   "source": [
    "# Verificamos que no queden datos faltantes\n",
    "df.isnull().sum()"
   ]
  },
  {
   "cell_type": "markdown",
   "id": "a3a6ec82-6d49-4edd-bf23-e88969a0557b",
   "metadata": {},
   "source": [
    "## **4. Detección y tratamiento de outliers**"
   ]
  },
  {
   "cell_type": "code",
   "execution_count": null,
   "id": "275898e7-e576-4eb6-86a5-72e8e86e0ec4",
   "metadata": {},
   "outputs": [],
   "source": [
    "# Revisemos las distribuciones de datos del DataFrame\n",
    "sns.boxplot(data=df)"
   ]
  },
  {
   "cell_type": "markdown",
   "id": "5d1a32d4-0049-44cd-9838-857c8fba187b",
   "metadata": {},
   "source": [
    "¿Qué información de aquí nos puede ser relevante?"
   ]
  },
  {
   "cell_type": "code",
   "execution_count": null,
   "id": "baff2055-211c-4f2a-a2e6-542ee448c74a",
   "metadata": {},
   "outputs": [],
   "source": [
    "# Boxplot de 'MonthlyCharges'\n",
    "sns.boxplot(x=df['MonthlyCharges'])\n",
    "plt.title('Distribución de MonthlyCharges')\n",
    "plt.show()\n"
   ]
  },
  {
   "cell_type": "code",
   "execution_count": null,
   "id": "c1726fb2-843d-4f92-80ba-33165d70e1f9",
   "metadata": {},
   "outputs": [],
   "source": [
    "# Boxplot de 'Tenure'\n",
    "sns.boxplot(x=df['tenure'])\n",
    "plt.title('Distribución de tenure')\n",
    "plt.show()\n"
   ]
  },
  {
   "cell_type": "code",
   "execution_count": null,
   "id": "6d32de31-b563-401c-aff1-6638781533b2",
   "metadata": {},
   "outputs": [],
   "source": [
    "# Boxplot de 'TotalCharges'\n",
    "sns.boxplot(x=df['TotalCharges'])\n",
    "plt.title('Distribución de TotalCharges')\n",
    "plt.show()\n"
   ]
  },
  {
   "cell_type": "code",
   "execution_count": null,
   "id": "cfa5ea75-4d3e-4948-8582-423f448e3561",
   "metadata": {},
   "outputs": [],
   "source": [
    "# Boxplot de 'SeniorCitizen'\n",
    "sns.boxplot(x=df['SeniorCitizen'])\n",
    "plt.title('Distribución de SeniorCitizen')\n",
    "plt.show()"
   ]
  },
  {
   "cell_type": "markdown",
   "id": "c4c1b44e-9982-42c0-a72e-25becd58f47f",
   "metadata": {},
   "source": [
    "¿Qué hubiera pasado en caso de encontrar outliers para alguna de estas variables?\n",
    "\n",
    "¿Cómo deberíamos manejarlos?"
   ]
  },
  {
   "cell_type": "markdown",
   "id": "7c971a9d-7dc6-4019-8238-4c8e5c2a66db",
   "metadata": {},
   "source": [
    "## **5. Procesamiento de datos categóricos y de texto**\n",
    "\n",
    "Identificamos las variables categóricas para procesarlas adecuadamente."
   ]
  },
  {
   "cell_type": "code",
   "execution_count": null,
   "id": "e7ba4c62-835f-482f-b983-a13b35cde5ab",
   "metadata": {},
   "outputs": [],
   "source": [
    "# Revisamos las variables categóricas\n",
    "categorical_features = df.select_dtypes(include=['object']).columns\n",
    "categorical_features"
   ]
  },
  {
   "cell_type": "code",
   "execution_count": null,
   "id": "897190a6-3d06-4417-9f63-679ab6666f62",
   "metadata": {},
   "outputs": [],
   "source": [
    "# Eliminamos 'customerID' ya que es un identificador único y no tiene sentido procesarlo como variable categórica\n",
    "df_cat = df.copy()\n",
    "df_cat.drop('customerID', axis=1, inplace=True)"
   ]
  },
  {
   "cell_type": "markdown",
   "id": "9d2f0ac2-59d7-4c27-b59d-33d0a210653b",
   "metadata": {},
   "source": [
    "Aplicamos **Label Encoding** a variables binarias y **One-Hot Encoding** a variables con múltiples categorías.\n",
    "\n",
    "Esto nos permitirá utilizar estas variables en análisis numéricos y modelos de machine learning.\n"
   ]
  },
  {
   "cell_type": "code",
   "execution_count": null,
   "id": "5f878d05-3b1a-4741-a127-2132ab8cf11b",
   "metadata": {},
   "outputs": [],
   "source": [
    "df_cat[['gender', 'Partner', 'Dependents', 'PhoneService', 'PaperlessBilling', 'Churn']]"
   ]
  },
  {
   "cell_type": "code",
   "execution_count": null,
   "id": "fea93129-0be3-440e-82a7-b4627cc21439",
   "metadata": {},
   "outputs": [],
   "source": [
    "# Convertimos las variables categóricas a numéricas usando Label Encoding y One-Hot Encoding\n",
    "\n",
    "# Variables binarias\n",
    "binary_features = ['gender', 'Partner', 'Dependents', 'PhoneService', 'PaperlessBilling', 'Churn']\n",
    "\n",
    "for feature in binary_features:\n",
    "    df_cat[feature] = df_cat[feature].map({'Yes': 1, 'No': 0, 'Male': 1, 'Female': 0})\n"
   ]
  },
  {
   "cell_type": "code",
   "execution_count": null,
   "id": "12e9e84f-61fd-46ab-b93a-69b5587d13a0",
   "metadata": {},
   "outputs": [],
   "source": [
    "df_cat[['gender', 'Partner', 'Dependents', 'PhoneService', 'PaperlessBilling', 'Churn']]"
   ]
  },
  {
   "cell_type": "code",
   "execution_count": null,
   "id": "780b1344-8628-4cac-9bab-f35a0681d7ff",
   "metadata": {},
   "outputs": [],
   "source": [
    "df_cat[['MultipleLines', 'InternetService',]]"
   ]
  },
  {
   "cell_type": "code",
   "execution_count": null,
   "id": "e17acc85-5ae6-4ee5-9096-544178126702",
   "metadata": {},
   "outputs": [],
   "source": [
    "# Variables con más de dos categorías\n",
    "multi_category_features = ['MultipleLines', 'InternetService', 'OnlineSecurity', 'OnlineBackup', 'DeviceProtection',\n",
    "                           'TechSupport', 'StreamingTV', 'StreamingMovies', 'Contract', 'PaymentMethod']\n",
    "\n",
    "df_cat = pd.get_dummies(df_cat, columns=multi_category_features)"
   ]
  },
  {
   "cell_type": "code",
   "execution_count": null,
   "id": "453521cc-fac7-46a4-81d3-b11e79898ef2",
   "metadata": {},
   "outputs": [],
   "source": [
    "df_cat[['MultipleLines_No', 'MultipleLines_No phone service',\n",
    "       'MultipleLines_Yes', 'InternetService_DSL',\n",
    "       'InternetService_Fiber optic', 'InternetService_No',]]"
   ]
  },
  {
   "cell_type": "markdown",
   "id": "f5b7b7e0-878a-44dd-b0a0-e378651d754f",
   "metadata": {},
   "source": [
    "Procesamos el texto en una nueva columna que nombraremos: **PaymentMethod_Text** eliminando stopwords y caracteres especiales, convirtiendo a minúsculas, y limpiando el texto.\r\n",
    "\r\n",
    "Esto es útil si quisiéramos hacer un análisis de texto más profund.\r\n"
   ]
  },
  {
   "cell_type": "code",
   "execution_count": null,
   "id": "eaed08da-0d6d-4530-a882-b18c3a031d36",
   "metadata": {},
   "outputs": [],
   "source": [
    "df_cat.columns"
   ]
  },
  {
   "cell_type": "code",
   "execution_count": null,
   "id": "4078cd9e-7d71-48c5-a784-bf6f25d3a17f",
   "metadata": {},
   "outputs": [],
   "source": [
    "# Extraemos el método de pago preferido para cada cliente\n",
    "payment_methods = ['PaymentMethod_Bank transfer (automatic)', 'PaymentMethod_Credit card (automatic)',\n",
    "                   'PaymentMethod_Electronic check', 'PaymentMethod_Mailed check']\n",
    "\n",
    "df_cat['PaymentMethod_Text'] = df_cat[payment_methods].idxmax(axis=1)\n",
    "\n",
    "# Limpiamos el texto\n",
    "df_cat['PaymentMethod_Text'] = df_cat['PaymentMethod_Text'].str.replace('PaymentMethod_', '')\n",
    "df_cat['PaymentMethod_Text'] = df_cat['PaymentMethod_Text'].str.lower()\n",
    "df_cat['PaymentMethod_Text']"
   ]
  },
  {
   "cell_type": "code",
   "execution_count": null,
   "id": "d17b189b-46bb-44d7-908f-717df368912f",
   "metadata": {},
   "outputs": [],
   "source": [
    "# Eliminamos stopwords y caracteres especiales\n",
    "stop_words = set(stopwords.words('english'))\n",
    "df_cat['PaymentMethod_Text'] = df_cat['PaymentMethod_Text'].apply(lambda x: ' '.join([word for word in x.split() if word not in stop_words]))\n",
    "df_cat['PaymentMethod_Text'] = df_cat['PaymentMethod_Text'].apply(lambda x: re.sub(r'[^a-zA-Z\\s]', '', x))\n",
    "df_cat['PaymentMethod_Text']"
   ]
  },
  {
   "cell_type": "markdown",
   "id": "5b6fc13e-a966-4862-8bb9-71dff2cd54f8",
   "metadata": {},
   "source": [
    "## **6. Visualización de datos**"
   ]
  },
  {
   "cell_type": "markdown",
   "id": "93194fa3-7648-4845-b672-279312c4a6e1",
   "metadata": {},
   "source": [
    "Visualizamos la distribución de la variable **tenure** para entender cuánto tiempo llevan los clientes con la empresa.\n",
    "\n",
    "Visualizamos la distribución de la variable **MonthlyCharges** para explorar los pagos que se hacen mes a mes a la empresa.\n",
    "\n",
    "Exploramos visualmente, la distribución de clientes por tipo de internet y contrato."
   ]
  },
  {
   "cell_type": "code",
   "execution_count": null,
   "id": "36759142-dd28-4763-a5c3-7a0b6b3cf682",
   "metadata": {},
   "outputs": [],
   "source": [
    "# Histograma de 'tenure' (meses de suscripción)\n",
    "sns.histplot(df['tenure'], bins=30, kde=True)\n",
    "plt.title('Distribución de Tenure')\n",
    "plt.show()"
   ]
  },
  {
   "cell_type": "markdown",
   "id": "6958a9da-95f7-4a28-a35d-5ecd5751825a",
   "metadata": {},
   "source": [
    "Observamos que hay un pico en clientes nuevos y en clientes de largo plazo.\n",
    "\n",
    "Esto sugiere que la compañía tiene tanto clientes nuevos como viejos y leales."
   ]
  },
  {
   "cell_type": "code",
   "execution_count": null,
   "id": "e345f993-346e-4720-9ab1-33da4ad118db",
   "metadata": {},
   "outputs": [],
   "source": [
    "# Histograma de 'MonthlyCharges' (Cargos Mensuales)\n",
    "plt.figure(figsize=(10,6))\n",
    "sns.histplot(df['MonthlyCharges'], bins=30, kde=True, color='green')\n",
    "plt.title('Distribución de Cargos Mensuales')\n",
    "plt.xlabel('Cargos Mensuales ($)')\n",
    "plt.ylabel('Frecuencia')\n",
    "plt.show()"
   ]
  },
  {
   "cell_type": "markdown",
   "id": "6c905b73-83c3-43a3-857c-89198dc6ec5b",
   "metadata": {},
   "source": [
    "Los cargos mensuales tienen una distribución bimodal, indicando que hay dos grupos distintos de clientes en términos de lo que pagan mensualmente.\n",
    "\n",
    "Esto podría deberse a diferentes paquetes o servicios contratados."
   ]
  },
  {
   "cell_type": "code",
   "execution_count": null,
   "id": "76ce569c-283c-4431-ba8d-01507e0da4d9",
   "metadata": {},
   "outputs": [],
   "source": [
    "# Gráfico de barras de 'Contract'\n",
    "plt.figure(figsize=(8,6))\n",
    "sns.countplot(x='Contract', data=df, palette='pastel')\n",
    "plt.title('Número de Clientes por Tipo de Contrato')\n",
    "plt.xlabel('Tipo de Contrato')\n",
    "plt.ylabel('Número de Clientes')\n",
    "plt.xticks(rotation=45)\n",
    "plt.show()"
   ]
  },
  {
   "cell_type": "markdown",
   "id": "2ef05392-b305-49d1-8ff3-514b30d82d2c",
   "metadata": {},
   "source": [
    "La mayoría de los clientes tienen contratos mes a mes.\n",
    "\n",
    "Los contratos de un año y dos años son menos populares."
   ]
  },
  {
   "cell_type": "code",
   "execution_count": null,
   "id": "fd19387f-0358-4278-91d4-2e6e717ee19a",
   "metadata": {},
   "outputs": [],
   "source": [
    "# Gráfico de barras de 'InternetService'\n",
    "plt.figure(figsize=(8,6))\n",
    "sns.countplot(x='InternetService', data=df, palette='muted')\n",
    "plt.title('Número de Clientes por Tipo de Servicio de Internet')\n",
    "plt.xlabel('Tipo de Servicio de Internet')\n",
    "plt.ylabel('Número de Clientes')\n",
    "plt.show()\n"
   ]
  },
  {
   "cell_type": "markdown",
   "id": "29e6dc08-3f9b-4857-9fe4-3b7a1baffcc7",
   "metadata": {},
   "source": [
    "El servicio de fibra óptica es el más utilizado.\n",
    "    \n",
    "Un número considerable de clientes no tiene servicio de internet."
   ]
  },
  {
   "cell_type": "markdown",
   "id": "38bb9b73-f17a-4c12-aa7e-25dad43f7991",
   "metadata": {},
   "source": [
    "**Análisis de Churn**\n",
    "\n",
    "¿Afectará el tipo de contrato?\n",
    "\n",
    "¿Afectará el método de pago?\n",
    "\n",
    "¿Afectará el tipo de internet?\n",
    "\n",
    "¿Afectará la edad?\n",
    "\n",
    "¿El tiempo en la compañía es factor clave para no abandonarla?"
   ]
  },
  {
   "cell_type": "code",
   "execution_count": null,
   "id": "1f0979d9-1f1c-4822-b1bd-e0b81c14c4ff",
   "metadata": {},
   "outputs": [],
   "source": [
    "# Porcentaje de clientes que han abandonado\n",
    "churn_rate = df['Churn'].mean() * 100\n",
    "print(f\"Tasa de abandono: {churn_rate:.2f}%\")"
   ]
  },
  {
   "cell_type": "code",
   "execution_count": null,
   "id": "85c56fb8-29b6-40ba-be8e-5e789229b1b5",
   "metadata": {},
   "outputs": [],
   "source": [
    "# Gráfico de barras de 'Churn'\n",
    "plt.figure(figsize=(6,4))\n",
    "sns.countplot(x='Churn', data=df, palette='Set2')\n",
    "plt.title('Distribución de Churn')\n",
    "plt.xlabel('Churn')\n",
    "plt.ylabel('Número de Clientes')\n",
    "plt.xticks([0,1], ['No', 'Sí'])\n",
    "plt.show()\n"
   ]
  },
  {
   "cell_type": "code",
   "execution_count": null,
   "id": "1baa62a7-b9cb-4a90-9cf5-4397a13ad92e",
   "metadata": {},
   "outputs": [],
   "source": [
    "# Gráfico de barras de 'Churn' por 'Contract'\n",
    "plt.figure(figsize=(8,6))\n",
    "sns.countplot(x='Contract', hue='Churn', data=df, palette='Set1')\n",
    "plt.title('Churn por Tipo de Contrato')\n",
    "plt.xlabel('Tipo de Contrato')\n",
    "plt.ylabel('Número de Clientes')\n",
    "plt.legend(title='Churn', labels=['No', 'Sí'])\n",
    "plt.xticks(rotation=45)\n",
    "plt.show()\n"
   ]
  },
  {
   "cell_type": "markdown",
   "id": "7ce1f556-8d76-42cf-b9a4-031e7ed5bdad",
   "metadata": {},
   "source": [
    "Los clientes con contratos mes a mes tienen una tasa de abandono mucho más alta.\n",
    "\n",
    "Los contratos a largo plazo están asociados con menor churn."
   ]
  },
  {
   "cell_type": "code",
   "execution_count": null,
   "id": "490e8e9f-649f-44e0-8b29-30687f78504b",
   "metadata": {},
   "outputs": [],
   "source": [
    "# Gráfico de barras de 'Churn' por 'PaymentMethod'\n",
    "plt.figure(figsize=(10,6))\n",
    "sns.countplot(x='PaymentMethod', hue='Churn', data=df, palette='Set3')\n",
    "plt.title('Churn por Método de Pago')\n",
    "plt.xlabel('Método de Pago')\n",
    "plt.ylabel('Número de Clientes')\n",
    "plt.legend(title='Churn', labels=['No', 'Sí'])\n",
    "plt.xticks(rotation=45)\n",
    "plt.show()\n"
   ]
  },
  {
   "cell_type": "markdown",
   "id": "869ae674-689c-4c54-9981-6500e9a3cfa0",
   "metadata": {},
   "source": [
    "El método de pago con cheque electrónico tiene una tasa de abandono más alta.\n",
    "    \n",
    "Los métodos automáticos como transferencia bancaria y tarjeta de crédito tienen tasas de abandono más bajas."
   ]
  },
  {
   "cell_type": "code",
   "execution_count": null,
   "id": "5b287188-23de-47a5-a239-7615b4181f09",
   "metadata": {},
   "outputs": [],
   "source": [
    "# Gráfico de barras de 'Churn' por 'InternetService'\n",
    "plt.figure(figsize=(8,6))\n",
    "sns.countplot(x='InternetService', hue='Churn', data=df, palette='coolwarm')\n",
    "plt.title('Churn por Tipo de Servicio de Internet')\n",
    "plt.xlabel('Tipo de Servicio de Internet')\n",
    "plt.ylabel('Número de Clientes')\n",
    "plt.legend(title='Churn', labels=['No', 'Sí'])\n",
    "plt.show()\n"
   ]
  },
  {
   "cell_type": "markdown",
   "id": "8a7578cc-518d-4b25-8a93-6bebfa3da369",
   "metadata": {},
   "source": [
    "Los clientes con servicio de fibra óptica tienen una tasa de abandono más alta.\n",
    "\n",
    "Los clientes sin servicio de internet tienen la tasa de abandono más baja."
   ]
  },
  {
   "cell_type": "code",
   "execution_count": null,
   "id": "47cec840-e2a9-40d3-baa5-9ad84e2f99a7",
   "metadata": {},
   "outputs": [],
   "source": [
    "# Gráfico de barras de 'Churn' por 'SeniorCitizen'\n",
    "plt.figure(figsize=(6,4))\n",
    "sns.countplot(x='SeniorCitizen', hue='Churn', data=df, palette='viridis')\n",
    "plt.title('Churn por Senior Citizen')\n",
    "plt.xlabel('Senior Citizen (0 = No, 1 = Sí)')\n",
    "plt.ylabel('Número de Clientes')\n",
    "plt.legend(title='Churn', labels=['No', 'Sí'])\n",
    "plt.show()"
   ]
  },
  {
   "cell_type": "markdown",
   "id": "802f1e5e-972e-45a1-bfc2-f0ad5c834eb8",
   "metadata": {},
   "source": [
    "Los clientes de la tercera edad tienen una **tasa de abandono** más alta.\n",
    "\n",
    "Esto puede indicar la necesidad de adaptar servicios para este grupo demográfico."
   ]
  },
  {
   "cell_type": "code",
   "execution_count": null,
   "id": "f6be53f8-38e8-44cd-8373-f4ab28c61b2b",
   "metadata": {},
   "outputs": [],
   "source": [
    "# Gráfico de densidad de 'tenure' por 'Churn'\n",
    "plt.figure(figsize=(10,6))\n",
    "sns.kdeplot(data=df, x='tenure', hue='Churn', fill=True)\n",
    "plt.title('Distribución de Tenure por Churn')\n",
    "plt.xlabel('Tenure (meses)')\n",
    "plt.ylabel('Densidad')\n",
    "plt.show()\n"
   ]
  },
  {
   "cell_type": "markdown",
   "id": "2df45636-8a27-4265-bb74-ada01e575128",
   "metadata": {},
   "source": [
    "Los clientes que han abandonado tienden a tener menor tiempo con la compañía.\n",
    "    \n",
    "La retención de clientes nuevos es un área clave a abordar."
   ]
  },
  {
   "cell_type": "markdown",
   "id": "17b07789-cb32-41c7-83ae-f49bd9f0bb84",
   "metadata": {},
   "source": [
    "# **7. Análisis de correlación**"
   ]
  },
  {
   "cell_type": "markdown",
   "id": "854a8027-c726-470b-863d-963943b16118",
   "metadata": {},
   "source": [
    "Antes de calcular la matriz de correlación, debemos asegurarnos de que solo incluimos variables numéricas."
   ]
  },
  {
   "cell_type": "code",
   "execution_count": null,
   "id": "9e5e9750-9079-4f7d-87a9-3b94196f000e",
   "metadata": {},
   "outputs": [],
   "source": [
    "# Seleccionar solo las columnas numéricas\n",
    "numeric_df = df.select_dtypes(include=[np.number])\n",
    "\n",
    "print(\"Columnas numéricas:\", numeric_df.columns.tolist())"
   ]
  },
  {
   "cell_type": "code",
   "execution_count": null,
   "id": "66be70a5-b6ae-44a4-bb6b-713aa4945930",
   "metadata": {},
   "outputs": [],
   "source": [
    "# Matriz de correlación\n",
    "corr_matrix = numeric_df.corr()\n",
    "\n",
    "# Visualizar la matriz de correlación\n",
    "plt.figure(figsize=(20,15))\n",
    "sns.heatmap(corr_matrix, cmap='coolwarm', annot=True, fmt=\".2f\")\n",
    "plt.title('Matriz de Correlación')\n",
    "plt.show()\n"
   ]
  },
  {
   "cell_type": "markdown",
   "id": "7a1d4144-67bd-49ed-8152-2af089482275",
   "metadata": {},
   "source": [
    "Churn tiene una **correlación negativa** con tenure (-0.35), lo que indica que a **mayor** tiempo con la compañía, **menor** probabilidad de abandono.\n",
    "\n",
    "MonthlyCharges tiene una **correlación positiva** con Churn (0.19), sugiriendo que **cargos mensuales más altos** están asociados con una **mayor tasa de abandono**."
   ]
  },
  {
   "cell_type": "markdown",
   "id": "259622f1-0b3e-478f-943e-19b4698b7c42",
   "metadata": {},
   "source": [
    "## Conclusiones"
   ]
  },
  {
   "cell_type": "markdown",
   "id": "d911eeb0-8e35-4fe1-9253-468265b70d39",
   "metadata": {},
   "source": [
    "* Clientes Nuevos: Los clientes con menor tiempo en la compañía (bajo tenure) son más propensos a abandonar. Es crucial enfocarse en estrategias de retención temprana.\n",
    "\n",
    "* Contratos Mensuales: Los clientes con contratos mes a mes tienen tasas de abandono significativamente más altas. Incentivar contratos a largo plazo podría mejorar la retención.\n",
    "\n",
    "* Métodos de Pago: Los clientes que pagan con cheque electrónico tienen mayor probabilidad de abandonar. Promover métodos de pago automáticos puede ser beneficioso.\n"
   ]
  },
  {
   "cell_type": "code",
   "execution_count": null,
   "id": "bd3159f2-c4f8-445a-a9f1-c6812f25f777",
   "metadata": {},
   "outputs": [],
   "source": []
  }
 ],
 "metadata": {
  "kernelspec": {
   "display_name": "Python 3 (ipykernel)",
   "language": "python",
   "name": "python3"
  },
  "language_info": {
   "codemirror_mode": {
    "name": "ipython",
    "version": 3
   },
   "file_extension": ".py",
   "mimetype": "text/x-python",
   "name": "python",
   "nbconvert_exporter": "python",
   "pygments_lexer": "ipython3",
   "version": "3.12.4"
  }
 },
 "nbformat": 4,
 "nbformat_minor": 5
}
