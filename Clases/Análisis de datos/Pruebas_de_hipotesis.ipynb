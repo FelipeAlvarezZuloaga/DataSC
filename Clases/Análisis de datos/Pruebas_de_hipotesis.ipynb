{
 "cells": [
  {
   "cell_type": "markdown",
   "id": "12947ef6-b601-48ee-9fac-303f1d854cab",
   "metadata": {},
   "source": [
    "# Pruebas de hipótesis"
   ]
  },
  {
   "cell_type": "markdown",
   "id": "3aa2d54a-f960-4b83-afd7-9eb04c0103e1",
   "metadata": {},
   "source": [
    "Supongamos que nos tenemos una  muestra de calificaciónes de Matemáticas de niños de primero de primaria en una escuela X. \n",
    "En la muestra, el promedio de las calificaciónes de los niños es de 5 y el de las niñas es de 8 \n",
    "\n",
    "Con esta información ¿Podemos garantizar que las niñas tienen mejores calificaciones que los niños?"
   ]
  },
  {
   "cell_type": "code",
   "execution_count": 19,
   "id": "0171ffb9-938d-4756-a6ee-8f1d0ae239f2",
   "metadata": {},
   "outputs": [],
   "source": [
    "# Importamos las librerías\n",
    "import pandas as pd\n",
    "import numpy as np\n",
    "import scipy.stats as stats"
   ]
  },
  {
   "cell_type": "code",
   "execution_count": 21,
   "id": "5cf3bfbb-7a77-488c-bc5d-3316dd2f3f6f",
   "metadata": {},
   "outputs": [],
   "source": [
    "# Leemos los datos\n",
    "muestra = pd.read_csv(r\"C:\\Users\\felip\\Desktop\\Cursos\\Datos\\calificaciones_muestra_peque.csv\")"
   ]
  },
  {
   "cell_type": "code",
   "execution_count": 23,
   "id": "2169b2b0-5b80-4164-9f86-dbe648ab5607",
   "metadata": {},
   "outputs": [
    {
     "name": "stdout",
     "output_type": "stream",
     "text": [
      "El promedio de calificaciónes de niñas del dataframe es:  8.0\n"
     ]
    }
   ],
   "source": [
    "#Filtramos únicamente a las niñas (M) y tomamos el promedio de sus calificaciones\n",
    "muestra_M = muestra[muestra[\"Genero\"] == \"M\"]\n",
    "print(\"El promedio de calificaciónes de niñas del dataframe es: \",  muestra_M[\"Calificacion Mate\"].mean()  )"
   ]
  },
  {
   "cell_type": "code",
   "execution_count": 25,
   "id": "a899387b-84e9-4d4e-9ae6-84503484e247",
   "metadata": {},
   "outputs": [
    {
     "name": "stdout",
     "output_type": "stream",
     "text": [
      "El promedio de calificaciónes de niños del dataframe es:  5.0\n"
     ]
    }
   ],
   "source": [
    "#Filtramos únicamente a los niños (H) y tomamos el promedio de sus calificaciones\n",
    "muestra_H = muestra[muestra[\"Genero\"] == \"H\"]\n",
    "print(\"El promedio de calificaciónes de niños del dataframe es: \",  muestra_H[\"Calificacion Mate\"].mean()  )"
   ]
  },
  {
   "cell_type": "markdown",
   "id": "6a3ef785-36c6-46d1-b043-ded8b1299048",
   "metadata": {},
   "source": [
    "**¿Podemos asegurar que, en promedio, los niños de esta escuela tienen menor calificación que las niñas?**\n",
    "\n",
    " *La ley de los grandes números*"
   ]
  },
  {
   "cell_type": "markdown",
   "id": "fc866d8b-80c7-4fa8-8b8b-eefa1e6a167e",
   "metadata": {},
   "source": [
    "Veamos como se ve la muestra que elegimos"
   ]
  },
  {
   "cell_type": "code",
   "execution_count": 28,
   "id": "e5935f53-85b1-457c-8044-dfe997b92a49",
   "metadata": {},
   "outputs": [
    {
     "data": {
      "text/html": [
       "<div>\n",
       "<style scoped>\n",
       "    .dataframe tbody tr th:only-of-type {\n",
       "        vertical-align: middle;\n",
       "    }\n",
       "\n",
       "    .dataframe tbody tr th {\n",
       "        vertical-align: top;\n",
       "    }\n",
       "\n",
       "    .dataframe thead th {\n",
       "        text-align: right;\n",
       "    }\n",
       "</style>\n",
       "<table border=\"1\" class=\"dataframe\">\n",
       "  <thead>\n",
       "    <tr style=\"text-align: right;\">\n",
       "      <th></th>\n",
       "      <th>Genero</th>\n",
       "      <th>Calificacion Mate</th>\n",
       "    </tr>\n",
       "  </thead>\n",
       "  <tbody>\n",
       "    <tr>\n",
       "      <th>0</th>\n",
       "      <td>H</td>\n",
       "      <td>10</td>\n",
       "    </tr>\n",
       "    <tr>\n",
       "      <th>1</th>\n",
       "      <td>H</td>\n",
       "      <td>0</td>\n",
       "    </tr>\n",
       "    <tr>\n",
       "      <th>2</th>\n",
       "      <td>M</td>\n",
       "      <td>9</td>\n",
       "    </tr>\n",
       "    <tr>\n",
       "      <th>3</th>\n",
       "      <td>M</td>\n",
       "      <td>7</td>\n",
       "    </tr>\n",
       "  </tbody>\n",
       "</table>\n",
       "</div>"
      ],
      "text/plain": [
       "  Genero  Calificacion Mate\n",
       "0      H                 10\n",
       "1      H                  0\n",
       "2      M                  9\n",
       "3      M                  7"
      ]
     },
     "execution_count": 28,
     "metadata": {},
     "output_type": "execute_result"
    }
   ],
   "source": [
    "muestra"
   ]
  },
  {
   "cell_type": "markdown",
   "id": "fd4bb944-80ff-4c46-bb60-c2a9f91c0006",
   "metadata": {},
   "source": [
    "## ¿Qué es una Prueba de Hipótesis?\n",
    "Una prueba de hipótesis es un procedimiento estadístico que se utiliza para tomar decisiones sobre una población basándose en datos de una muestra. \n",
    "\n",
    "La prueba de hipótesis ayuda a determinar si hay suficiente evidencia en los datos de la muestra para apoyar una afirmación específica (hipótesis) sobre la población."
   ]
  },
  {
   "cell_type": "markdown",
   "id": "adca213f-b179-441a-98a6-d10816920531",
   "metadata": {
    "jp-MarkdownHeadingCollapsed": true
   },
   "source": [
    "## Componentes de una prueba de hipótesis:\n",
    "\n",
    "**Hipótesis nula (H₀)**: Es la hipótesis que se asume cierta inicialmente. Generalmente representa una afirmación de \"no efecto\" o \"no diferencia\". Por ejemplo, \"la media de la población es igual a un valor específico\" o \"no hay diferencia entre los grupos\".\n",
    "\n",
    "**Hipótesis alternativa (H₁ o Ha)**: Es la hipótesis que se desea probar. Representa la afirmación que contradice a la hipótesis nula. Por ejemplo, \"la media de la población es diferente de un valor específico\" o \"hay una diferencia entre los grupos\".\n",
    "\n",
    "**Nivel de significancia (α)**: Es la probabilidad de rechazar la hipótesis nula cuando es verdadera. Un valor comúnmente usado es 0.05 (5%).\n",
    "\n",
    "**Estadístico de prueba**: Es una cantidad calculada a partir de los datos de la muestra que se utiliza para decidir si se rechaza o no la hipótesis nula.\n",
    "\n",
    "Algunos de los mas importantes son:\n",
    "\n",
    "    - Prueba t de student -> Comparar las medias de dos grupos (muestras pequeñas y distribuciones normales).\n",
    "    \n",
    "    - Prueba z -> Similar a t pero se usa cuando hay muestras \"grandes\" (n > 30) ó si se conoce la desviación estandar de la población\n",
    "    \n",
    "    - Estadístico χ² (Chi-cuadrada): Se usa en pruebas de independencia. Es decir, prueba si existe una relación significativa entre dos variables categóricas.\n",
    "    \n",
    "    - Coeficiente de correlación de Pearson (r): Evalúa la relación entre dos variables continuas si se tienen datos lineales y normalmente distribuidos.\n",
    "    \n",
    "    - Coeficiente de correlación de Spearman (ρ): Evalúa la relación entre dos variables continuas si datos no paramétricos o distribuciones no normales.\n",
    "\n",
    "**Valor p**: Es la probabilidad de observar un valor del estadístico de prueba tan extremo o más extremo que el observado, bajo la suposición de que la hipótesis nula es verdadera. Si el valor p es menor que el nivel de significancia, se rechaza la hipótesis nula. \n",
    "\n",
    "Responde a la pregunta ¿Que tan probable es que haya elegido una muestra que me haya dado datos extraños que casualmente me dan lo que quiero?\n",
    "\n",
    "---"
   ]
  },
  {
   "cell_type": "markdown",
   "id": "51252d53-e23e-45ce-aa96-9aa61e11a484",
   "metadata": {},
   "source": [
    "## Para nuestro caso:\n",
    "\n",
    "    . H₀ = Las calificaciones promedio de los niños y las niñas son iguales.\n",
    "    (La media de las calificaciones de los niños = La media de las calificaciones de las niñas)\n",
    "\n",
    "    \n",
    "    . H₁ = Las niñas tienen mejores calificaciones que los niños.\n",
    "    (La media de las calificaciones de los niños < La media de las calificaciones de las niñas)\n",
    "\n",
    "    .α =  0.05 (Este suele ser el estandar)\n",
    "\n",
    "    Prueba t para dos muestras independientes"
   ]
  },
  {
   "cell_type": "code",
   "execution_count": 70,
   "id": "4c1f0238-ab45-458a-b1e5-4a0cbdac1f53",
   "metadata": {},
   "outputs": [],
   "source": [
    "# Datos de las calificaciones\n",
    "calificaciones_niños = list(muestra_H[\"Calificacion Mate\"])\n",
    "calificaciones_niñas = list(muestra_M[\"Calificacion Mate\"])"
   ]
  },
  {
   "cell_type": "code",
   "execution_count": 76,
   "id": "d2717b2b-938a-4426-acfd-31690d7b563e",
   "metadata": {},
   "outputs": [
    {
     "name": "stdout",
     "output_type": "stream",
     "text": [
      "Calificaciones de niños :  [10, 0]\n",
      "Calificaciones de niños :  [9, 7]\n"
     ]
    }
   ],
   "source": [
    "print(\"Calificaciones de niños : \", calificaciones_niños)\n",
    "print(\"Calificaciones de niños : \", calificaciones_niñas)"
   ]
  },
  {
   "cell_type": "code",
   "execution_count": 86,
   "id": "4a1520df-aa21-4ec5-aad7-294d01c11bed",
   "metadata": {},
   "outputs": [
    {
     "name": "stdout",
     "output_type": "stream",
     "text": [
      "Estadístico t: -0.5883484054145521\n",
      "Valor p: 0.307944680100656\n"
     ]
    }
   ],
   "source": [
    "# Realizar la prueba t para dos muestras independientes (asumiendo varianzas iguales)\n",
    "t_stat, p_value = stats.ttest_ind(calificaciones_niños, calificaciones_niñas, equal_var=True, alternative='less') #Revisar documentacion y explicar\n",
    "\n",
    "print(f'Estadístico t: {t_stat}')\n",
    "print(f'Valor p: {p_value}')"
   ]
  },
  {
   "cell_type": "code",
   "execution_count": 88,
   "id": "99eeb09d-15ca-48ad-9013-e8c0846005c1",
   "metadata": {},
   "outputs": [
    {
     "name": "stdout",
     "output_type": "stream",
     "text": [
      "No rechazamos la hipótesis nula: No se puede garantizar que las niñas tengan mejores calificaciones que los niños.\n"
     ]
    }
   ],
   "source": [
    "#Comprobamos si es menor que la significancia para poder dar una respuesta\n",
    "alpha = 0.05\n",
    "\n",
    "if p_value < alpha:\n",
    "    print(\"Rechazamos la hipótesis nula: Las niñas tienen mejores calificaciones que los niños.\")\n",
    "else:\n",
    "    print(\"No rechazamos la hipótesis nula: No se puede garantizar que las niñas tengan mejores calificaciones que los niños.\")\n"
   ]
  },
  {
   "cell_type": "code",
   "execution_count": null,
   "id": "8224c508-52c8-40c9-a06a-8a9168e236f3",
   "metadata": {},
   "outputs": [],
   "source": []
  }
 ],
 "metadata": {
  "kernelspec": {
   "display_name": "Python 3 (ipykernel)",
   "language": "python",
   "name": "python3"
  },
  "language_info": {
   "codemirror_mode": {
    "name": "ipython",
    "version": 3
   },
   "file_extension": ".py",
   "mimetype": "text/x-python",
   "name": "python",
   "nbconvert_exporter": "python",
   "pygments_lexer": "ipython3",
   "version": "3.12.4"
  }
 },
 "nbformat": 4,
 "nbformat_minor": 5
}
