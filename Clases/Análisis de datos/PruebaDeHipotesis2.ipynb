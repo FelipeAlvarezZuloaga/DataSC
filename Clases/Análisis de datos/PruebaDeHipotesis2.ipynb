{
 "cells": [
  {
   "cell_type": "markdown",
   "id": "28c605ce-eff8-4c18-a830-d8f1cb7db25f",
   "metadata": {},
   "source": [
    "# Pruebas de Hipótesis 2\n",
    "\n",
    "Exploraremos diferentes tipos de pruebas de hipótesis, incluyendo pruebas de una cola y dos colas, utilizando diferentes distribuciones. Además, interpretaremos los valores p y los estadísticos calculados en cada caso."
   ]
  },
  {
   "cell_type": "markdown",
   "id": "0e88f610-edff-4d95-bb91-0aa8b24aca0c",
   "metadata": {},
   "source": [
    "## Repaso\n",
    "Las pruebas de hipótesis son una herramienta estadística fundamental para tomar decisiones basadas en datos. Nos permiten evaluar si existe suficiente evidencia en una muestra para inferir algo sobre una población."
   ]
  },
  {
   "cell_type": "markdown",
   "id": "4c7f9088-cde2-4a7c-a65f-3b51367a7879",
   "metadata": {},
   "source": [
    "## Prueba t de una muestra (dos colas)"
   ]
  },
  {
   "cell_type": "markdown",
   "id": "0ae6af0e-6152-4403-8e9e-a3d2248fb0f3",
   "metadata": {},
   "source": [
    "### Situación\n",
    "Supongamos que somos una compañía que produce un tipo de cable que debe soportar una tensión promedio de 500 kg antes de romperse. Queremos saber si un nuevo proceso de fabricación ha cambiado la resistencia promedio del cable."
   ]
  },
  {
   "cell_type": "markdown",
   "id": "017a6c3b-bcc5-4dd4-9acf-34da4c63c271",
   "metadata": {},
   "source": [
    "### Planteamiento de Hipótesis\n",
    "\n",
    "Hipótesis nula (H₀): La resistencia promedio es igual a 500 kg (μ = 500).\n",
    "\n",
    "Hipótesis alternativa (H₁): La resistencia promedio es diferente de 500 kg (μ ≠ 500)."
   ]
  },
  {
   "cell_type": "markdown",
   "id": "c5d9faea-705a-43d3-aab2-8105a630be8d",
   "metadata": {},
   "source": [
    "### Datos sintéticos\n",
    "\n",
    "En vez de tomar datos de algun archivo o base, generaremos nuestros propios datos.\n",
    "Esto es una práctica común en la industria ya que muchas veces no contaremos con suficientes datos \"originales\" para entrenar modelos o para hacer pruebas estadísticas. \n",
    "\n",
    "Para generar buenos datos sintéicos existen diferentes técnicas. En caso de conocer los datos, se les puede hacer algunas modificaciones a los datos para generar nuevo contenido. Por ejemplo, si tenémos diferentes imágenes de gatos y queremos hacer un clasificador, es posible construir datos adicionales al girar, invertir e incluso aplicar filtros a las fotos originales. \n",
    "En caso de no contar con datos reales, podemos generar datos sintéticos con fines de hacer ejercicios y explorar escenarios posibles. Sin embargo, recordemos que en la práctica se deberán contar con datos reales para validar los sintéticos y no caer en sesgos.\n",
    "\n",
    "Generemos entonces un conjunto de datos que simulen tener las condiciones planteadas en la situación."
   ]
  },
  {
   "cell_type": "code",
   "execution_count": 2,
   "id": "c97cea2f-2766-4231-be21-7d9cda305ee6",
   "metadata": {},
   "outputs": [],
   "source": [
    "import numpy as np\n",
    "from scipy import stats"
   ]
  },
  {
   "cell_type": "code",
   "execution_count": 30,
   "id": "c40aa474-3bc4-4ff2-9816-3516718fa946",
   "metadata": {},
   "outputs": [
    {
     "data": {
      "text/plain": [
       "array([512.4507123 , 502.92603548, 514.71532807, 527.84544785,\n",
       "       501.48769938, 501.48794565, 528.68819223, 516.51152094,\n",
       "       497.95788421, 513.13840065, 498.04873461, 498.0140537 ,\n",
       "       508.62943407, 476.30079633, 479.12623251, 496.56568706,\n",
       "       489.80753319, 509.71370999, 491.37963887, 483.81544448,\n",
       "       526.98473153, 501.61335549, 506.01292307, 483.62877721,\n",
       "       496.83425913, 506.66383885, 487.73509634, 510.63547028,\n",
       "       495.99041965, 500.62459375])"
      ]
     },
     "execution_count": 30,
     "metadata": {},
     "output_type": "execute_result"
    }
   ],
   "source": [
    "# Generamos una muestra de resistencias\n",
    "np.random.seed(42)  # Para reproducibilidad\n",
    "muestra = np.random.normal(loc=505, scale=15, size=30)  # Supongamos una media real 505 kg y std de 15\n",
    "muestra"
   ]
  },
  {
   "cell_type": "markdown",
   "id": "9cfc8ada-5000-491c-91ca-25ead6e40900",
   "metadata": {},
   "source": [
    "### Prueba de hipótesis\n",
    "\n",
    "Se utiliza una prueba **t de Student** porque estamos comparando la media de una muestra (las resistencias de los cables) con un valor específico de referencia (500 kg) y queremos evaluar si hay una diferencia significativa entre la media de la muestra y ese valor. Esta prueba es apropiada cuando:\n",
    "\n",
    "    1. El tamaño de la muestra es relativamente pequeño (en este caso, 30 observaciones), y no se conoce la desviación estándar de la población, por lo que necesitamos estimarla a partir de la muestra.\n",
    "    \n",
    "    2. Se asume que la variable que estamos evaluando sigue una distribución aproximadamente normal (la resistencia de los cables sigue una distribución normal en la mayoría de los procesos de manufactura).\n",
    "    \n",
    "La prueba t de Student es ideal en estas situaciones, pues nos permite comparar si la media muestral difiere significativamente de un valor hipotético (en este caso, 500 kg) cuando la varianza es desconocida y debe ser estimada a partir de los datos."
   ]
  },
  {
   "cell_type": "markdown",
   "id": "d51e2c77-47b8-4793-b86e-8198e662a196",
   "metadata": {},
   "source": [
    "### Pruebas de una o dos colas\n",
    "\n",
    "Podemos preguntarnos ¿Es una prueba de una cola o de dos colas?\n",
    "\n",
    "La diferencia entre una prueba de una o dos colas radica en las hipótesis que hagamos y fundamentalmente en lo que querramos detectar o probar. \n",
    "\n",
    "    Prueba de dos colas: Se utiliza cuando queremos detectar si la media es diferente (ya sea mayor o menor) de un valor específico, sin importar la dirección del cambio.\n",
    "\n",
    "    Prueba de una cola: Se utilizaría si tuviéramos una hipótesis alternativa específica, como si quisiéramos evaluar solo si la resistencia ha aumentado o disminuido, pero no ambas.\n",
    "\n",
    "Nuestro caso cae en una prueba de una cola ya que lo que nos interesa es saber si la resistencia promedio del cable es diferente de 500 kg. No nos interesa, en este caso, considerar que pueda resistir mas o menos queremos exactamente el peso de 500 kg. Por eso el valor p se calcula para ambos extremos de la distribución t."
   ]
  },
  {
   "cell_type": "code",
   "execution_count": 32,
   "id": "82f8871b-5413-416e-9de7-87717e76980e",
   "metadata": {},
   "outputs": [
    {
     "name": "stdout",
     "output_type": "stream",
     "text": [
      "Estadístico t: 0.88\n",
      "Valor p: 0.3842\n"
     ]
    }
   ],
   "source": [
    "# Realizamos la prueba t de una muestra\n",
    "t_statistic, p_value = stats.ttest_1samp(muestra, popmean=500)\n",
    "\n",
    "print(f'Estadístico t: {t_statistic:.2f}')\n",
    "print(f'Valor p: {p_value:.4f}')"
   ]
  },
  {
   "cell_type": "markdown",
   "id": "dc1d64c0-9e28-46bf-803e-d10be9894d9e",
   "metadata": {},
   "source": [
    "### Interpretación y Decisión\n",
    "\n",
    "Estadístico t: Mide cuántas desviaciones estándar está la media muestral de la media poblacional bajo H₀.\n",
    "\n",
    "Valor p: Probabilidad de obtener un resultado tan extremo como el observado, asumiendo que H₀ es verdadera."
   ]
  },
  {
   "cell_type": "code",
   "execution_count": 26,
   "id": "1e60fa7e-421b-444c-a227-7953ffbe8bf5",
   "metadata": {},
   "outputs": [
    {
     "name": "stdout",
     "output_type": "stream",
     "text": [
      "No rechazamos H₀: No hay evidencia suficiente para decir que la resistencia promedio es diferente de 500 kg.\n"
     ]
    }
   ],
   "source": [
    "alpha = 0.05  # Nivel de significancia\n",
    "\n",
    "if p_value < alpha:\n",
    "    print(\"Rechazamos H₀: La resistencia promedio es significativamente diferente de 500 kg.\")\n",
    "else:\n",
    "    print(\"No rechazamos H₀: No hay evidencia suficiente para decir que la resistencia promedio es diferente de 500 kg.\")\n"
   ]
  },
  {
   "cell_type": "markdown",
   "id": "daffe835-fea5-4578-b9c7-9f6238469b5c",
   "metadata": {},
   "source": [
    "## Prueba t de una muestra (una cola)"
   ]
  },
  {
   "cell_type": "markdown",
   "id": "2256b1e9-2155-432d-b265-c4ad5afcc272",
   "metadata": {},
   "source": [
    "### Situación\n",
    "\n",
    "Ahora, queremos saber si el nuevo proceso de fabricación ha aumentado la resistencia promedio del cable."
   ]
  },
  {
   "cell_type": "markdown",
   "id": "17f18b51-c752-471f-a196-0ba85ccf4a63",
   "metadata": {},
   "source": [
    "### Hipótesis\n",
    "\n",
    "Hipótesis nula (H₀): La resistencia promedio es menor o igual a 500 kg (μ ≤ 500).\n",
    "\n",
    "Hipótesis alternativa (H₁): La resistencia promedio es mayor a 500 kg (μ > 500)."
   ]
  },
  {
   "cell_type": "markdown",
   "id": "693ae730-70fe-4eb4-9df0-f66e39d77a38",
   "metadata": {},
   "source": [
    "### Pruebas de una o dos colas\n",
    "\n",
    "Con el criterio anterio, podemos detectar con facilidad si nuestro caso en una prueba de una o dos colas.\n",
    "\n",
    "En este caso, nos interesa probar si la media de la resistencia del cable ha aumentado. Es decir, si el nuevo proceso de fabricación ha mejorado la resistencia. No estamos interesados en la posibilidad de que la resistencia sea menor a 500 kg.\n",
    "\n",
    "La hipótesis alternativa (H₁) plantea que la media es **mayor** que 500 kg, lo que significa que estamos enfocados solo en un lado (la \"cola\" derecha) de la distribución de la prueba t."
   ]
  },
  {
   "cell_type": "markdown",
   "id": "c6fd36d2-ef73-4c70-ae07-13a3b373bc3b",
   "metadata": {},
   "source": [
    "### ¿Qué pasa con el p-value?\n",
    "\n",
    "Cuando se utiliza una prueba de dos colas, el valor p mide la probabilidad de que los resultados sean más extremos que los observados, tanto en el lado positivo como en el negativo de la distribución t.\n",
    "\n",
    "En una prueba de dos colas, estamos interesados en desviaciones en ambos sentidos: tanto si la media es mayor como si es menor que el valor de la hipótesis nula.\n",
    "\n",
    "En una prueba de una cola, como solo estamos interesados en una dirección (si la resistencia es mayor que 500 kg), el valor p de la prueba de dos colas debe dividirse por 2. Esto es porque en la prueba de dos colas, el valor p refleja la probabilidad de obtener resultados extremos en ambos extremos (positivo y negativo), pero en una prueba de una cola, solo nos importa el extremo que nos interesa (en este caso, el extremo derecho, que corresponde a valores mayores)."
   ]
  },
  {
   "cell_type": "code",
   "execution_count": 28,
   "id": "60d3bd40-2b42-4019-8cc2-10fbdd86deed",
   "metadata": {},
   "outputs": [
    {
     "name": "stdout",
     "output_type": "stream",
     "text": [
      "Valor p (una cola): 0.1921\n",
      "No rechazamos H₀: La resistencia promedio es menor o igual a 500 Kg.\n"
     ]
    }
   ],
   "source": [
    "# Valor p ajustado para una cola\n",
    "p_value_one_tailed = p_value / 2\n",
    "\n",
    "print(f'Valor p (una cola): {p_value_one_tailed:.4f}')\n",
    "\n",
    "if (t_statistic > 0) and (p_value_one_tailed < alpha):\n",
    "    print(\"Rechazamos H₀: La resistencia promedio es significativamente mayor a 500 kg.\")\n",
    "else:\n",
    "    print(\"No rechazamos H₀: La resistencia promedio es menor o igual a 500 Kg.\")\n"
   ]
  },
  {
   "cell_type": "markdown",
   "id": "10aaa4fa-0db0-4293-a139-2b8160b86474",
   "metadata": {},
   "source": [
    "##  Prueba t para muestras independientes (dos colas)"
   ]
  },
  {
   "cell_type": "markdown",
   "id": "03bae2ec-2cee-410a-b664-677b9f33f7f4",
   "metadata": {},
   "source": [
    "### Situación\n",
    "Queremos comparar la resistencia promedio de cables fabricados con dos materiales diferentes."
   ]
  },
  {
   "cell_type": "markdown",
   "id": "85e3ebc3-0fb9-4ddd-b86b-772138f4bbb0",
   "metadata": {},
   "source": [
    "### Datos sintéticos"
   ]
  },
  {
   "cell_type": "code",
   "execution_count": 34,
   "id": "afd3116b-3ef2-4d69-b17f-5a0b96eeff9f",
   "metadata": {},
   "outputs": [],
   "source": [
    "# Generamos datos para dos grupos\n",
    "material_A = np.random.normal(500, 15, 30)\n",
    "material_B = np.random.normal(510, 15, 30)"
   ]
  },
  {
   "cell_type": "markdown",
   "id": "54420232-80b2-4b0d-adda-4f9a05ee0d50",
   "metadata": {},
   "source": [
    "### Hipótesis\n",
    "\n",
    "Hipótesis nula (H₀): Las resistencias promedio son iguales (μ₁ = μ₂).\n",
    "\n",
    "Hipótesis alternativa (H₁): Las resistencias promedio son diferentes (μ₁ ≠ μ₂)."
   ]
  },
  {
   "cell_type": "markdown",
   "id": "f2a2d79e-67c6-4b39-b0bc-83505863a1c5",
   "metadata": {},
   "source": [
    "### Prueba de hipótesis\n",
    "\n",
    "Recordemos que consideraremos una prueba de dos colas porque no estamos interesados en una dirección específica del cambio (mayor o menor), sino simplemente en cualquier diferencia significativa entre los dos grupos.\n",
    "\n",
    "En otras palabras, **no estamos haciendo ninguna suposición sobre qué grupo tendría una resistencia promedio mayor** solo queremos ver si hay alguna diferencia. Esto hace que la prueba sea bidireccional, o de dos colas."
   ]
  },
  {
   "cell_type": "code",
   "execution_count": 40,
   "id": "05abae3b-6401-4147-8945-a8dd935e0795",
   "metadata": {},
   "outputs": [
    {
     "name": "stdout",
     "output_type": "stream",
     "text": [
      "Estadístico t: -3.22\n",
      "Valor p: 0.0021\n"
     ]
    }
   ],
   "source": [
    "t_statistic, p_value = stats.ttest_ind(material_A, material_B)\n",
    "\n",
    "print(f'Estadístico t: {t_statistic:.2f}')\n",
    "print(f'Valor p: {p_value:.4f}')"
   ]
  },
  {
   "cell_type": "markdown",
   "id": "8b9f2144-8e01-4eb0-93fe-de678473bfc3",
   "metadata": {},
   "source": [
    "### Interpretación y Decisión"
   ]
  },
  {
   "cell_type": "markdown",
   "id": "09d31205-e6b6-4c9a-9509-a84c03e83139",
   "metadata": {},
   "source": [
    "### Interpretación del estadístico t\n",
    "\n",
    "El estadístico t mide la diferencia entre las medias de los dos grupos en términos de las desviaciones estándar combinadas (o estándar del error). En este caso, el valor negativo de t indica que la media de la resistencia del Material A es menor que la del Material B.\n",
    "\n",
    "Un estadístico t de -3.22 significa que la media de la resistencia del Material A está 3.22 desviaciones estándar por debajo de la media de la resistencia del Material B. Es una diferencia bastante grande en términos estadísticos."
   ]
  },
  {
   "cell_type": "code",
   "execution_count": 43,
   "id": "4f1aee28-a4c4-4ef2-86d9-0a15a18edb93",
   "metadata": {},
   "outputs": [
    {
     "name": "stdout",
     "output_type": "stream",
     "text": [
      "Rechazamos H₀: Las resistencias promedio son significativamente diferentes.\n"
     ]
    }
   ],
   "source": [
    "if p_value < alpha:\n",
    "    print(\"Rechazamos H₀: Las resistencias promedio son significativamente diferentes.\")\n",
    "else:\n",
    "    print(\"No rechazamos H₀: No hay evidencia suficiente para decir que las resistencias promedio son diferentes.\")\n"
   ]
  },
  {
   "cell_type": "markdown",
   "id": "b79fb466-e645-4ca9-b5f3-6e809c0fab23",
   "metadata": {},
   "source": [
    "## ANOVA de un factor (Análisis de Varianza)"
   ]
  },
  {
   "cell_type": "markdown",
   "id": "ba321b0f-149d-4a7b-a090-971c90dfd929",
   "metadata": {},
   "source": [
    "### Situación\n",
    "Queremos comparar el efecto de tres dietas diferentes en el aumento de peso de animales de laboratorio."
   ]
  },
  {
   "cell_type": "markdown",
   "id": "9d295e67-85cd-4df3-8861-a270c31e5d91",
   "metadata": {},
   "source": [
    "### Datos sintéticos"
   ]
  },
  {
   "cell_type": "code",
   "execution_count": 103,
   "id": "930f917e-e353-455b-8c1c-eeebb679a0b5",
   "metadata": {},
   "outputs": [],
   "source": [
    "# Generamos datos para tres dietas\n",
    "dieta_1 = np.random.normal(7, 1, 20)\n",
    "dieta_2 = np.random.normal(7, 1, 20)\n",
    "dieta_3 = np.random.normal(7, 2, 20)"
   ]
  },
  {
   "cell_type": "markdown",
   "id": "3d4de9c0-b979-4cdb-9551-1302e7b71c88",
   "metadata": {},
   "source": [
    "### Hipótesis\n",
    "\n",
    "Hipótesis nula (H₀): Las medias de las tres dietas son iguales.\n",
    "\n",
    "Hipótesis alternativa (H₁): Al menos una de las medias es diferente."
   ]
  },
  {
   "cell_type": "markdown",
   "id": "2627271b-bc92-4cb6-a61b-4ecc9f9f8fb7",
   "metadata": {},
   "source": [
    "### Prueba de hipótesis"
   ]
  },
  {
   "cell_type": "code",
   "execution_count": 107,
   "id": "d9929720-ecfc-44a2-a541-807aafecfe51",
   "metadata": {},
   "outputs": [
    {
     "name": "stdout",
     "output_type": "stream",
     "text": [
      "Estadístico F: 0.10\n",
      "Valor p: 0.9022\n"
     ]
    }
   ],
   "source": [
    "f_statistic, p_value = stats.f_oneway(dieta_1, dieta_2, dieta_3)\n",
    "\n",
    "print(f'Estadístico F: {f_statistic:.2f}')\n",
    "print(f'Valor p: {p_value:.4f}')"
   ]
  },
  {
   "cell_type": "markdown",
   "id": "b7c97a15-943b-49f5-8da5-a3ffdad23b79",
   "metadata": {},
   "source": [
    "### Interpretación y decisión\n",
    "\n",
    "El estadístico F mide la relación entre la **variabilidad entre grupos** (es decir, cómo difieren las medias de las dietas) y la **variabilidad dentro de los grupos** (es decir, la variabilidad en los aumentos de peso dentro de cada dieta). Un valor de F alto sugiere que hay más variabilidad entre los grupos que dentro de los grupos, lo cual es una señal de que las medias de los grupos podrían no ser iguales."
   ]
  },
  {
   "cell_type": "code",
   "execution_count": 110,
   "id": "759e7c1e-29ed-4473-9598-8466a2e986e4",
   "metadata": {},
   "outputs": [
    {
     "name": "stdout",
     "output_type": "stream",
     "text": [
      "No rechazamos H₀: No hay evidencia suficiente para decir que existen diferencias entre las dietas.\n"
     ]
    }
   ],
   "source": [
    "if p_value < alpha:\n",
    "    print(\"Rechazamos H₀: Hay diferencias significativas entre las dietas.\")\n",
    "else:\n",
    "    print(\"No rechazamos H₀: No hay evidencia suficiente para decir que existen diferencias entre las dietas.\")\n"
   ]
  },
  {
   "cell_type": "code",
   "execution_count": null,
   "id": "8cc101a4-2a03-4e52-8d4d-235338ef0057",
   "metadata": {},
   "outputs": [],
   "source": []
  }
 ],
 "metadata": {
  "kernelspec": {
   "display_name": "Python 3 (ipykernel)",
   "language": "python",
   "name": "python3"
  },
  "language_info": {
   "codemirror_mode": {
    "name": "ipython",
    "version": 3
   },
   "file_extension": ".py",
   "mimetype": "text/x-python",
   "name": "python",
   "nbconvert_exporter": "python",
   "pygments_lexer": "ipython3",
   "version": "3.12.4"
  }
 },
 "nbformat": 4,
 "nbformat_minor": 5
}
