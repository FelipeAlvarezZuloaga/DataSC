{
 "cells": [
  {
   "cell_type": "markdown",
   "id": "9c21ad95-59b6-45b4-a88a-6e95291027c8",
   "metadata": {},
   "source": [
    "# Web Scraping"
   ]
  },
  {
   "cell_type": "markdown",
   "id": "59088718-9b9c-4d74-bbee-d460ff10b7ea",
   "metadata": {},
   "source": [
    "## ¿Qué es el Web Scraping?\n",
    "\n",
    "El Scraping es una técnica utilizada para extraer información de sitios web de manera automatizada. En lugar de copiar y pegar manualmente los datos, se utilizan programas, o código, para recopilar grandes cantidades de información de forma eficiente."
   ]
  },
  {
   "cell_type": "markdown",
   "id": "8a3b0d7a-0e02-4ecf-b60d-f0640bcbefc4",
   "metadata": {},
   "source": [
    "## Herramientas Comunes en Python\n",
    "\n",
    "* BeautifulSoup: Para analizar y extraer información del HTML.\n",
    "\n",
    "* Scrapy: Un framework avanzado para web scraping."
   ]
  },
  {
   "cell_type": "code",
   "execution_count": 33,
   "id": "f03f017c-7f48-47e3-bea9-6df31d69eb7c",
   "metadata": {},
   "outputs": [],
   "source": [
    "import requests\n",
    "from bs4 import BeautifulSoup\n",
    "import pandas as pd"
   ]
  },
  {
   "cell_type": "code",
   "execution_count": 21,
   "id": "8f24e786-1cfb-4667-bb0d-12f251713775",
   "metadata": {},
   "outputs": [
    {
     "name": "stdout",
     "output_type": "stream",
     "text": [
      "Solicitud exitosa!\n"
     ]
    }
   ],
   "source": [
    "# URL del sitio web a extraer\n",
    "url = 'http://books.toscrape.com/'\n",
    "\n",
    "# Realizar la solicitud GET\n",
    "response = requests.get(url)\n",
    "\n",
    "# Verificar el estado de la respuesta\n",
    "if response.status_code == 200:\n",
    "    print('Solicitud exitosa!')\n",
    "else:\n",
    "    print('Error en la solicitud:', response.status_code)\n"
   ]
  },
  {
   "cell_type": "code",
   "execution_count": 23,
   "id": "0914b1e2-7aaa-4f0e-896d-002584cc07ad",
   "metadata": {},
   "outputs": [
    {
     "name": "stdout",
     "output_type": "stream",
     "text": [
      "Título de la página: \n",
      "    All products | Books to Scrape - Sandbox\n",
      "\n"
     ]
    }
   ],
   "source": [
    "# Crear objeto BeautifulSoup\n",
    "soup = BeautifulSoup(response.content, 'html.parser')\n",
    "\n",
    "# Visualizar el título de la página\n",
    "titulo_pagina = soup.title.string\n",
    "print('Título de la página:', titulo_pagina)\n"
   ]
  },
  {
   "cell_type": "code",
   "execution_count": 25,
   "id": "d34240c8-6bcf-4801-8d25-438cbf0013d5",
   "metadata": {},
   "outputs": [
    {
     "name": "stdout",
     "output_type": "stream",
     "text": [
      "{'Título': 'A Light in the Attic', 'Precio (£)': 51.77, 'Disponibilidad': 'In stock'}\n",
      "{'Título': 'Tipping the Velvet', 'Precio (£)': 53.74, 'Disponibilidad': 'In stock'}\n",
      "{'Título': 'Soumission', 'Precio (£)': 50.1, 'Disponibilidad': 'In stock'}\n",
      "{'Título': 'Sharp Objects', 'Precio (£)': 47.82, 'Disponibilidad': 'In stock'}\n",
      "{'Título': 'Sapiens: A Brief History of Humankind', 'Precio (£)': 54.23, 'Disponibilidad': 'In stock'}\n",
      "{'Título': 'The Requiem Red', 'Precio (£)': 22.65, 'Disponibilidad': 'In stock'}\n",
      "{'Título': 'The Dirty Little Secrets of Getting Your Dream Job', 'Precio (£)': 33.34, 'Disponibilidad': 'In stock'}\n",
      "{'Título': 'The Coming Woman: A Novel Based on the Life of the Infamous Feminist, Victoria Woodhull', 'Precio (£)': 17.93, 'Disponibilidad': 'In stock'}\n",
      "{'Título': 'The Boys in the Boat: Nine Americans and Their Epic Quest for Gold at the 1936 Berlin Olympics', 'Precio (£)': 22.6, 'Disponibilidad': 'In stock'}\n",
      "{'Título': 'The Black Maria', 'Precio (£)': 52.15, 'Disponibilidad': 'In stock'}\n",
      "{'Título': 'Starving Hearts (Triangular Trade Trilogy, #1)', 'Precio (£)': 13.99, 'Disponibilidad': 'In stock'}\n",
      "{'Título': \"Shakespeare's Sonnets\", 'Precio (£)': 20.66, 'Disponibilidad': 'In stock'}\n",
      "{'Título': 'Set Me Free', 'Precio (£)': 17.46, 'Disponibilidad': 'In stock'}\n",
      "{'Título': \"Scott Pilgrim's Precious Little Life (Scott Pilgrim #1)\", 'Precio (£)': 52.29, 'Disponibilidad': 'In stock'}\n",
      "{'Título': 'Rip it Up and Start Again', 'Precio (£)': 35.02, 'Disponibilidad': 'In stock'}\n",
      "{'Título': 'Our Band Could Be Your Life: Scenes from the American Indie Underground, 1981-1991', 'Precio (£)': 57.25, 'Disponibilidad': 'In stock'}\n",
      "{'Título': 'Olio', 'Precio (£)': 23.88, 'Disponibilidad': 'In stock'}\n",
      "{'Título': 'Mesaerion: The Best Science Fiction Stories 1800-1849', 'Precio (£)': 37.59, 'Disponibilidad': 'In stock'}\n",
      "{'Título': 'Libertarianism for Beginners', 'Precio (£)': 51.33, 'Disponibilidad': 'In stock'}\n",
      "{'Título': \"It's Only the Himalayas\", 'Precio (£)': 45.17, 'Disponibilidad': 'In stock'}\n"
     ]
    }
   ],
   "source": [
    "# Encontrar todos los artículos de libros\n",
    "articulos = soup.find_all('article', class_='product_pod')\n",
    "\n",
    "# Lista para almacenar los datos\n",
    "datos_libros = []\n",
    "\n",
    "for articulo in articulos:\n",
    "    # Extraer el título del libro\n",
    "    titulo = articulo.h3.a['title']\n",
    "    \n",
    "    # Extraer el precio del libro\n",
    "    precio = articulo.find('p', class_='price_color').text\n",
    "    precio = float(precio.replace('£', ''))\n",
    "    \n",
    "    # Extraer disponibilidad\n",
    "    disponibilidad = articulo.find('p', class_='instock availability').text.strip()\n",
    "    \n",
    "    # Agregar los datos a la lista\n",
    "    datos_libros.append({\n",
    "        'Título': titulo,\n",
    "        'Precio (£)': precio,\n",
    "        'Disponibilidad': disponibilidad\n",
    "    })\n",
    "\n",
    "# Mostrar los datos extraídos\n",
    "for libro in datos_libros:\n",
    "    print(libro)\n"
   ]
  },
  {
   "cell_type": "code",
   "execution_count": 31,
   "id": "dc1f4cde-ba65-48f0-8869-2a65bd25dfa6",
   "metadata": {
    "scrolled": true
   },
   "outputs": [
    {
     "data": {
      "text/html": [
       "<div>\n",
       "<style scoped>\n",
       "    .dataframe tbody tr th:only-of-type {\n",
       "        vertical-align: middle;\n",
       "    }\n",
       "\n",
       "    .dataframe tbody tr th {\n",
       "        vertical-align: top;\n",
       "    }\n",
       "\n",
       "    .dataframe thead th {\n",
       "        text-align: right;\n",
       "    }\n",
       "</style>\n",
       "<table border=\"1\" class=\"dataframe\">\n",
       "  <thead>\n",
       "    <tr style=\"text-align: right;\">\n",
       "      <th></th>\n",
       "      <th>Título</th>\n",
       "      <th>Precio (£)</th>\n",
       "      <th>Disponibilidad</th>\n",
       "    </tr>\n",
       "  </thead>\n",
       "  <tbody>\n",
       "    <tr>\n",
       "      <th>0</th>\n",
       "      <td>A Light in the Attic</td>\n",
       "      <td>51.77</td>\n",
       "      <td>In stock</td>\n",
       "    </tr>\n",
       "    <tr>\n",
       "      <th>1</th>\n",
       "      <td>Tipping the Velvet</td>\n",
       "      <td>53.74</td>\n",
       "      <td>In stock</td>\n",
       "    </tr>\n",
       "    <tr>\n",
       "      <th>2</th>\n",
       "      <td>Soumission</td>\n",
       "      <td>50.10</td>\n",
       "      <td>In stock</td>\n",
       "    </tr>\n",
       "    <tr>\n",
       "      <th>3</th>\n",
       "      <td>Sharp Objects</td>\n",
       "      <td>47.82</td>\n",
       "      <td>In stock</td>\n",
       "    </tr>\n",
       "    <tr>\n",
       "      <th>4</th>\n",
       "      <td>Sapiens: A Brief History of Humankind</td>\n",
       "      <td>54.23</td>\n",
       "      <td>In stock</td>\n",
       "    </tr>\n",
       "    <tr>\n",
       "      <th>5</th>\n",
       "      <td>The Requiem Red</td>\n",
       "      <td>22.65</td>\n",
       "      <td>In stock</td>\n",
       "    </tr>\n",
       "    <tr>\n",
       "      <th>6</th>\n",
       "      <td>The Dirty Little Secrets of Getting Your Dream...</td>\n",
       "      <td>33.34</td>\n",
       "      <td>In stock</td>\n",
       "    </tr>\n",
       "    <tr>\n",
       "      <th>7</th>\n",
       "      <td>The Coming Woman: A Novel Based on the Life of...</td>\n",
       "      <td>17.93</td>\n",
       "      <td>In stock</td>\n",
       "    </tr>\n",
       "    <tr>\n",
       "      <th>8</th>\n",
       "      <td>The Boys in the Boat: Nine Americans and Their...</td>\n",
       "      <td>22.60</td>\n",
       "      <td>In stock</td>\n",
       "    </tr>\n",
       "    <tr>\n",
       "      <th>9</th>\n",
       "      <td>The Black Maria</td>\n",
       "      <td>52.15</td>\n",
       "      <td>In stock</td>\n",
       "    </tr>\n",
       "    <tr>\n",
       "      <th>10</th>\n",
       "      <td>Starving Hearts (Triangular Trade Trilogy, #1)</td>\n",
       "      <td>13.99</td>\n",
       "      <td>In stock</td>\n",
       "    </tr>\n",
       "    <tr>\n",
       "      <th>11</th>\n",
       "      <td>Shakespeare's Sonnets</td>\n",
       "      <td>20.66</td>\n",
       "      <td>In stock</td>\n",
       "    </tr>\n",
       "    <tr>\n",
       "      <th>12</th>\n",
       "      <td>Set Me Free</td>\n",
       "      <td>17.46</td>\n",
       "      <td>In stock</td>\n",
       "    </tr>\n",
       "    <tr>\n",
       "      <th>13</th>\n",
       "      <td>Scott Pilgrim's Precious Little Life (Scott Pi...</td>\n",
       "      <td>52.29</td>\n",
       "      <td>In stock</td>\n",
       "    </tr>\n",
       "    <tr>\n",
       "      <th>14</th>\n",
       "      <td>Rip it Up and Start Again</td>\n",
       "      <td>35.02</td>\n",
       "      <td>In stock</td>\n",
       "    </tr>\n",
       "    <tr>\n",
       "      <th>15</th>\n",
       "      <td>Our Band Could Be Your Life: Scenes from the A...</td>\n",
       "      <td>57.25</td>\n",
       "      <td>In stock</td>\n",
       "    </tr>\n",
       "    <tr>\n",
       "      <th>16</th>\n",
       "      <td>Olio</td>\n",
       "      <td>23.88</td>\n",
       "      <td>In stock</td>\n",
       "    </tr>\n",
       "    <tr>\n",
       "      <th>17</th>\n",
       "      <td>Mesaerion: The Best Science Fiction Stories 18...</td>\n",
       "      <td>37.59</td>\n",
       "      <td>In stock</td>\n",
       "    </tr>\n",
       "    <tr>\n",
       "      <th>18</th>\n",
       "      <td>Libertarianism for Beginners</td>\n",
       "      <td>51.33</td>\n",
       "      <td>In stock</td>\n",
       "    </tr>\n",
       "    <tr>\n",
       "      <th>19</th>\n",
       "      <td>It's Only the Himalayas</td>\n",
       "      <td>45.17</td>\n",
       "      <td>In stock</td>\n",
       "    </tr>\n",
       "  </tbody>\n",
       "</table>\n",
       "</div>"
      ],
      "text/plain": [
       "                                               Título  Precio (£)  \\\n",
       "0                                A Light in the Attic       51.77   \n",
       "1                                  Tipping the Velvet       53.74   \n",
       "2                                          Soumission       50.10   \n",
       "3                                       Sharp Objects       47.82   \n",
       "4               Sapiens: A Brief History of Humankind       54.23   \n",
       "5                                     The Requiem Red       22.65   \n",
       "6   The Dirty Little Secrets of Getting Your Dream...       33.34   \n",
       "7   The Coming Woman: A Novel Based on the Life of...       17.93   \n",
       "8   The Boys in the Boat: Nine Americans and Their...       22.60   \n",
       "9                                     The Black Maria       52.15   \n",
       "10     Starving Hearts (Triangular Trade Trilogy, #1)       13.99   \n",
       "11                              Shakespeare's Sonnets       20.66   \n",
       "12                                        Set Me Free       17.46   \n",
       "13  Scott Pilgrim's Precious Little Life (Scott Pi...       52.29   \n",
       "14                          Rip it Up and Start Again       35.02   \n",
       "15  Our Band Could Be Your Life: Scenes from the A...       57.25   \n",
       "16                                               Olio       23.88   \n",
       "17  Mesaerion: The Best Science Fiction Stories 18...       37.59   \n",
       "18                       Libertarianism for Beginners       51.33   \n",
       "19                            It's Only the Himalayas       45.17   \n",
       "\n",
       "   Disponibilidad  \n",
       "0        In stock  \n",
       "1        In stock  \n",
       "2        In stock  \n",
       "3        In stock  \n",
       "4        In stock  \n",
       "5        In stock  \n",
       "6        In stock  \n",
       "7        In stock  \n",
       "8        In stock  \n",
       "9        In stock  \n",
       "10       In stock  \n",
       "11       In stock  \n",
       "12       In stock  \n",
       "13       In stock  \n",
       "14       In stock  \n",
       "15       In stock  \n",
       "16       In stock  \n",
       "17       In stock  \n",
       "18       In stock  \n",
       "19       In stock  "
      ]
     },
     "execution_count": 31,
     "metadata": {},
     "output_type": "execute_result"
    }
   ],
   "source": [
    "df = pd.DataFrame(datos_libros)\n",
    "df"
   ]
  },
  {
   "cell_type": "markdown",
   "id": "08bc130c-46c2-48b2-88de-e98847829e9f",
   "metadata": {},
   "source": [
    "# Datetime"
   ]
  },
  {
   "cell_type": "markdown",
   "id": "b493c154-8e30-4b37-980c-4928b1bf52eb",
   "metadata": {},
   "source": [
    "## ¿Qué es datetime?\n",
    "\n",
    "El módulo datetime de Python proporciona clases para manipular fechas y horas de manera sencilla y eficiente.\n",
    "\n",
    "* datetime.date: Manejo de fechas (año, mes, día).\n",
    "* datetime.time: Manejo de horas (hora, minuto, segundo, microsegundo).\n",
    "* datetime.datetime: Combina fecha y hora.\n",
    "* datetime.timedelta: Representa una duración."
   ]
  },
  {
   "cell_type": "markdown",
   "id": "0f8ee831-485d-40c7-9efb-90a26a5ef1c0",
   "metadata": {},
   "source": [
    "# ¿Por qué datetime?\n",
    "\n",
    "* Cálculos Temporales: Diferencias entre fechas, agregar o restar tiempos.\n",
    "* Formateo: Convertir fechas y horas a cadenas de texto y viceversa.\n",
    "* Zonas Horarias: Manejar diferentes zonas horarias (con ayuda de librerías adicionales).\n"
   ]
  },
  {
   "cell_type": "code",
   "execution_count": 39,
   "id": "5f121d60-9bce-40f1-a771-d770877ab587",
   "metadata": {},
   "outputs": [],
   "source": [
    "from datetime import datetime, timedelta"
   ]
  },
  {
   "cell_type": "code",
   "execution_count": 41,
   "id": "39d6c945-6db7-4530-98fd-7eb928a4336a",
   "metadata": {},
   "outputs": [
    {
     "name": "stdout",
     "output_type": "stream",
     "text": [
      "Fecha y hora actuales: 2024-10-02 00:06:45.815664\n"
     ]
    }
   ],
   "source": [
    "# Obtener la fecha y hora actuales\n",
    "ahora = datetime.now()\n",
    "print('Fecha y hora actuales:', ahora)"
   ]
  },
  {
   "cell_type": "code",
   "execution_count": 43,
   "id": "79142494-f6ff-4c01-ae77-9fa88bc0ae82",
   "metadata": {},
   "outputs": [
    {
     "name": "stdout",
     "output_type": "stream",
     "text": [
      "Mi fecha: 2023-10-01\n",
      "Mi hora: 14:30:00\n",
      "Mi datetime: 2023-10-01 14:30:00\n"
     ]
    }
   ],
   "source": [
    "# Crear una fecha específica\n",
    "mi_fecha = date(2023, 10, 1)\n",
    "print('Mi fecha:', mi_fecha)\n",
    "\n",
    "# Crear una hora específica\n",
    "mi_hora = time(14, 30)\n",
    "print('Mi hora:', mi_hora)\n",
    "\n",
    "# Combinar fecha y hora\n",
    "mi_datetime = datetime.combine(mi_fecha, mi_hora)\n",
    "print('Mi datetime:', mi_datetime)\n"
   ]
  },
  {
   "cell_type": "code",
   "execution_count": 45,
   "id": "2711ac5a-3485-49de-ba91-be3a4190531c",
   "metadata": {},
   "outputs": [
    {
     "name": "stdout",
     "output_type": "stream",
     "text": [
      "Fecha y hora formateadas: 02/10/2024 00:06:45\n",
      "Cadena convertida a datetime: 2023-10-01 14:30:00\n"
     ]
    }
   ],
   "source": [
    "# Formatear datetime a cadena\n",
    "formato_personalizado = ahora.strftime('%d/%m/%Y %H:%M:%S')\n",
    "print('Fecha y hora formateadas:', formato_personalizado)\n",
    "\n",
    "# Convertir cadena a datetime\n",
    "cadena_fecha = '01/10/2023 14:30:00'\n",
    "fecha_convertida = datetime.strptime(cadena_fecha, '%d/%m/%Y %H:%M:%S')\n",
    "print('Cadena convertida a datetime:', fecha_convertida)\n"
   ]
  },
  {
   "cell_type": "code",
   "execution_count": 47,
   "id": "bdbbafb4-aa99-4404-bad4-cb283caf071a",
   "metadata": {},
   "outputs": [
    {
     "name": "stdout",
     "output_type": "stream",
     "text": [
      "Días de diferencia: 14\n",
      "Nueva fecha: 2023-10-11\n"
     ]
    }
   ],
   "source": [
    "# Calcular diferencias entre fechas\n",
    "fecha1 = date(2023, 10, 1)\n",
    "fecha2 = date(2023, 10, 15)\n",
    "diferencia = fecha2 - fecha1\n",
    "print('Días de diferencia:', diferencia.days)\n",
    "\n",
    "# Agregar tiempo a una fecha\n",
    "nueva_fecha = fecha1 + timedelta(days=10)\n",
    "print('Nueva fecha:', nueva_fecha)\n"
   ]
  }
 ],
 "metadata": {
  "kernelspec": {
   "display_name": "Python 3 (ipykernel)",
   "language": "python",
   "name": "python3"
  },
  "language_info": {
   "codemirror_mode": {
    "name": "ipython",
    "version": 3
   },
   "file_extension": ".py",
   "mimetype": "text/x-python",
   "name": "python",
   "nbconvert_exporter": "python",
   "pygments_lexer": "ipython3",
   "version": "3.12.4"
  }
 },
 "nbformat": 4,
 "nbformat_minor": 5
}
