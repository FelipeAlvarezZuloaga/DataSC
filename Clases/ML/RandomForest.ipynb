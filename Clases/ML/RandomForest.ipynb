{
 "cells": [
  {
   "cell_type": "markdown",
   "id": "d75793b4-dfc2-4c1e-8a6e-e70c223d0a00",
   "metadata": {},
   "source": [
    "# Random Forest"
   ]
  },
  {
   "cell_type": "code",
   "execution_count": null,
   "id": "58fd83f2-1f3c-4518-9fb0-4f4f2ef9b9e1",
   "metadata": {},
   "outputs": [],
   "source": [
    "# Importar librerías\n",
    "import numpy as np\n",
    "import pandas as pd\n",
    "import matplotlib.pyplot as plt\n",
    "import seaborn as sns\n",
    "from sklearn.datasets import load_wine\n",
    "from sklearn.model_selection import train_test_split, GridSearchCV\n",
    "from sklearn.tree import DecisionTreeClassifier\n",
    "from sklearn.ensemble import RandomForestClassifier\n",
    "from sklearn.metrics import (confusion_matrix, classification_report,\n",
    "                             accuracy_score)\n",
    "\n",
    "# Configurar estilo de gráficos\n",
    "%matplotlib inline\n",
    "sns.set(style='whitegrid')"
   ]
  },
  {
   "cell_type": "markdown",
   "id": "2a4f7a8c-b074-4db4-bb95-9657b73a0eb1",
   "metadata": {},
   "source": [
    "Esta vez, utilizaremos un conjunto mas complejo que el clasico de las flores. Utilizaremos datos de vino"
   ]
  },
  {
   "cell_type": "code",
   "execution_count": null,
   "id": "91a62473-612e-41bf-bfbc-3eec9af87f12",
   "metadata": {},
   "outputs": [],
   "source": [
    "# Cargar el conjunto de datos Wine\n",
    "wine = load_wine()\n",
    "X = wine.data\n",
    "y = wine.target\n",
    "feature_names = wine.feature_names\n",
    "class_names = wine.target_names\n",
    "\n",
    "df = pd.DataFrame(X, columns=feature_names)\n",
    "df['target'] = y"
   ]
  },
  {
   "cell_type": "code",
   "execution_count": null,
   "id": "7df68f7a-0e26-4931-86e9-9b15730b9a14",
   "metadata": {},
   "outputs": [],
   "source": [
    "wine"
   ]
  },
  {
   "cell_type": "code",
   "execution_count": null,
   "id": "98abd526-ad05-4e16-9c5f-5a19fffd49a2",
   "metadata": {},
   "outputs": [],
   "source": [
    "df"
   ]
  },
  {
   "cell_type": "code",
   "execution_count": null,
   "id": "332a7b58-0ad6-4c87-840c-612432e65e56",
   "metadata": {},
   "outputs": [],
   "source": [
    "# Visualización de pares de características\n",
    "sns.pairplot(df, hue='target', vars=feature_names[:4])\n",
    "plt.show()\n"
   ]
  },
  {
   "cell_type": "code",
   "execution_count": null,
   "id": "da7b78cf-566e-4784-9a66-0cf398473a9e",
   "metadata": {},
   "outputs": [],
   "source": [
    "# Dividir en conjuntos de entrenamiento y prueba\n",
    "X_train, X_test, y_train, y_test = train_test_split(\n",
    "    X, y, test_size=0.3, random_state=2, stratify=y)\n"
   ]
  },
  {
   "cell_type": "markdown",
   "id": "bda311d6-53dc-4781-880c-7a78089b64cd",
   "metadata": {},
   "source": [
    "# Prueba de árbol"
   ]
  },
  {
   "cell_type": "code",
   "execution_count": null,
   "id": "a21f001f-637f-44bf-9f90-b9c379795a23",
   "metadata": {},
   "outputs": [],
   "source": [
    "dt_clf = DecisionTreeClassifier(random_state=2)\n",
    "dt_clf"
   ]
  },
  {
   "cell_type": "code",
   "execution_count": null,
   "id": "ee54d5f8-8a40-485f-80ba-bb34b2418ded",
   "metadata": {},
   "outputs": [],
   "source": [
    "dt_clf.fit(X_train, y_train)"
   ]
  },
  {
   "cell_type": "code",
   "execution_count": null,
   "id": "a9b6955b-6871-4f32-99f8-e9945752e545",
   "metadata": {},
   "outputs": [],
   "source": [
    "# Evaluación del árbol de decisión\n",
    "y_pred_dt = dt_clf.predict(X_test)\n",
    "print(\"Precisión del Árbol de Decisión:\", accuracy_score(y_test, y_pred_dt))"
   ]
  },
  {
   "cell_type": "code",
   "execution_count": null,
   "id": "74e561cf-255b-4a77-99bb-ca5f3769d1d0",
   "metadata": {},
   "outputs": [],
   "source": [
    "# Matriz de confusión\n",
    "conf_matrix_dt = confusion_matrix(y_test, y_pred_dt)\n",
    "sns.heatmap(conf_matrix_dt, annot=True, cmap='Blues', fmt='d',\n",
    "            xticklabels=class_names, yticklabels=class_names)\n",
    "plt.title('Matriz de Confusión - Árbol de Decisión')\n",
    "plt.ylabel('Etiqueta Verdadera')\n",
    "plt.xlabel('Etiqueta Predicha')\n",
    "plt.show()\n"
   ]
  },
  {
   "cell_type": "markdown",
   "id": "4c46536a-b074-4707-816e-5115a6c42610",
   "metadata": {},
   "source": [
    "# Random Forest"
   ]
  },
  {
   "cell_type": "code",
   "execution_count": null,
   "id": "d7feefea-2125-4f38-8fe2-a1169f0de563",
   "metadata": {},
   "outputs": [],
   "source": [
    "rf_clf = RandomForestClassifier(\n",
    "    n_estimators=100,    # Número de árboles en el bosque\n",
    "    max_features='sqrt', # Número de características a considerar en cada división\n",
    "    random_state=2\n",
    ")\n",
    "\n",
    "rf_clf"
   ]
  },
  {
   "cell_type": "code",
   "execution_count": null,
   "id": "72a4fae3-5026-4407-be86-a112e8d3b288",
   "metadata": {},
   "outputs": [],
   "source": [
    "rf_clf.fit(X_train, y_train)"
   ]
  },
  {
   "cell_type": "code",
   "execution_count": null,
   "id": "6171ae36-6b51-44c6-a9a5-f3d5417f9642",
   "metadata": {},
   "outputs": [],
   "source": [
    "# Evaluación del Random Forest\n",
    "y_pred_rf = rf_clf.predict(X_test)\n",
    "print(\"Precisión del Random Forest:\", accuracy_score(y_test, y_pred_rf))\n"
   ]
  },
  {
   "cell_type": "code",
   "execution_count": null,
   "id": "0a41966a-e186-45d9-b427-ba03a3ce98b3",
   "metadata": {},
   "outputs": [],
   "source": [
    "# Matriz de confusión\n",
    "conf_matrix_rf = confusion_matrix(y_test, y_pred_rf)\n",
    "sns.heatmap(conf_matrix_rf, annot=True, cmap='Blues', fmt='d',\n",
    "            xticklabels=class_names, yticklabels=class_names)\n",
    "plt.title('Matriz de Confusión - Random Forest')\n",
    "plt.ylabel('Etiqueta Verdadera')\n",
    "plt.xlabel('Etiqueta Predicha')\n",
    "plt.show()\n"
   ]
  },
  {
   "cell_type": "code",
   "execution_count": null,
   "id": "1395308f-5ccc-4146-bebb-fadb1ad3afb8",
   "metadata": {},
   "outputs": [],
   "source": [
    "# Importancia de las características en el Random Forest\n",
    "importances = pd.DataFrame({\n",
    "    'Feature': feature_names,\n",
    "    'Importance': rf_clf.feature_importances_\n",
    "}).sort_values(by='Importance', ascending=False)\n",
    "\n",
    "print(importances)\n",
    "\n",
    "# Visualización de la importancia\n",
    "plt.figure(figsize=(10,6))\n",
    "sns.barplot(x='Importance', y='Feature', data=importances)\n",
    "plt.title('Importancia de las Características')\n",
    "plt.show()\n"
   ]
  },
  {
   "cell_type": "code",
   "execution_count": null,
   "id": "e478b7f3-c1da-4c23-a56b-3810313e5e88",
   "metadata": {},
   "outputs": [],
   "source": []
  }
 ],
 "metadata": {
  "kernelspec": {
   "display_name": "Python 3 (ipykernel)",
   "language": "python",
   "name": "python3"
  },
  "language_info": {
   "codemirror_mode": {
    "name": "ipython",
    "version": 3
   },
   "file_extension": ".py",
   "mimetype": "text/x-python",
   "name": "python",
   "nbconvert_exporter": "python",
   "pygments_lexer": "ipython3",
   "version": "3.12.4"
  }
 },
 "nbformat": 4,
 "nbformat_minor": 5
}
